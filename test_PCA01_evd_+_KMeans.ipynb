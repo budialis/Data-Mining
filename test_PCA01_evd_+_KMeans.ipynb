{
  "nbformat": 4,
  "nbformat_minor": 0,
  "metadata": {
    "colab": {
      "name": "test_PCA01_evd + KMeans.ipynb",
      "provenance": [],
      "collapsed_sections": [],
      "include_colab_link": true
    },
    "kernelspec": {
      "name": "python3",
      "display_name": "Python 3"
    },
    "language_info": {
      "name": "python"
    }
  },
  "cells": [
    {
      "cell_type": "markdown",
      "metadata": {
        "id": "view-in-github",
        "colab_type": "text"
      },
      "source": [
        "<a href=\"https://colab.research.google.com/github/budialis/Data-Mining/blob/main/test_PCA01_evd_%2B_KMeans.ipynb\" target=\"_parent\"><img src=\"https://colab.research.google.com/assets/colab-badge.svg\" alt=\"Open In Colab\"/></a>"
      ]
    },
    {
      "cell_type": "markdown",
      "metadata": {
        "id": "WEgfw33bEWYm"
      },
      "source": [
        "This source code is taken from https://www.askpython.com/python/examples/principal-component-analysis"
      ]
    },
    {
      "cell_type": "code",
      "metadata": {
        "id": "c05QYFaOzCWZ"
      },
      "source": [
        "import pandas as pd\n",
        "import numpy as np\n",
        "import seaborn as sb\n",
        "import matplotlib.pyplot as plt"
      ],
      "execution_count": null,
      "outputs": []
    },
    {
      "cell_type": "code",
      "metadata": {
        "id": "OUqaGxdx5C_y",
        "colab": {
          "base_uri": "https://localhost:8080/"
        },
        "outputId": "1f5e6ca5-7543-43d3-ed07-7cc2d29c4c13"
      },
      "source": [
        "from google.colab import drive\n",
        "drive.mount('/content/drive')"
      ],
      "execution_count": null,
      "outputs": [
        {
          "output_type": "stream",
          "text": [
            "Mounted at /content/drive\n"
          ],
          "name": "stdout"
        }
      ]
    },
    {
      "cell_type": "code",
      "metadata": {
        "id": "_SU8CksZ9syy"
      },
      "source": [
        "def PCA(X , num_components):\n",
        "     \n",
        "    #Step-1\n",
        "    X_meaned = X - np.mean(X , axis = 0)\n",
        "     \n",
        "    #Step-2\n",
        "    cov_mat = np.cov(X_meaned , rowvar = False)\n",
        "     \n",
        "    #Step-3\n",
        "    eigen_values , eigen_vectors = np.linalg.eigh(cov_mat)\n",
        "     \n",
        "    #Step-4\n",
        "    sorted_index = np.argsort(eigen_values)[::-1]\n",
        "    sorted_eigenvalue = eigen_values[sorted_index]\n",
        "    sorted_eigenvectors = eigen_vectors[:,sorted_index]\n",
        "     \n",
        "    #Step-5\n",
        "    eigenvector_subset = sorted_eigenvectors[:,0:num_components]\n",
        "     \n",
        "    #Step-6\n",
        "    X_reduced = np.dot(eigenvector_subset.transpose() , X_meaned.transpose() ).transpose()\n",
        "     \n",
        "    return X_reduced\n"
      ],
      "execution_count": null,
      "outputs": []
    },
    {
      "cell_type": "code",
      "metadata": {
        "colab": {
          "base_uri": "https://localhost:8080/",
          "height": 419
        },
        "id": "nx3i4_Tl96uY",
        "outputId": "6940be05-ebe7-4e67-a36c-254781399b9a"
      },
      "source": [
        "#Get the IRIS dataset\n",
        "url = \"/content/drive/MyDrive/Data Mining/Iris.txt\"\n",
        "data = pd.read_csv(url, names=['sepal length','sepal width','petal length','petal width','target'])\n",
        " \n",
        "data"
      ],
      "execution_count": null,
      "outputs": [
        {
          "output_type": "execute_result",
          "data": {
            "text/html": [
              "<div>\n",
              "<style scoped>\n",
              "    .dataframe tbody tr th:only-of-type {\n",
              "        vertical-align: middle;\n",
              "    }\n",
              "\n",
              "    .dataframe tbody tr th {\n",
              "        vertical-align: top;\n",
              "    }\n",
              "\n",
              "    .dataframe thead th {\n",
              "        text-align: right;\n",
              "    }\n",
              "</style>\n",
              "<table border=\"1\" class=\"dataframe\">\n",
              "  <thead>\n",
              "    <tr style=\"text-align: right;\">\n",
              "      <th></th>\n",
              "      <th>sepal length</th>\n",
              "      <th>sepal width</th>\n",
              "      <th>petal length</th>\n",
              "      <th>petal width</th>\n",
              "      <th>target</th>\n",
              "    </tr>\n",
              "  </thead>\n",
              "  <tbody>\n",
              "    <tr>\n",
              "      <th>Id</th>\n",
              "      <td>SepalLengthCm</td>\n",
              "      <td>SepalWidthCm</td>\n",
              "      <td>PetalLengthCm</td>\n",
              "      <td>PetalWidthCm</td>\n",
              "      <td>Species</td>\n",
              "    </tr>\n",
              "    <tr>\n",
              "      <th>1</th>\n",
              "      <td>5.1</td>\n",
              "      <td>3.5</td>\n",
              "      <td>1.4</td>\n",
              "      <td>0.2</td>\n",
              "      <td>Iris-setosa</td>\n",
              "    </tr>\n",
              "    <tr>\n",
              "      <th>2</th>\n",
              "      <td>4.9</td>\n",
              "      <td>3.0</td>\n",
              "      <td>1.4</td>\n",
              "      <td>0.2</td>\n",
              "      <td>Iris-setosa</td>\n",
              "    </tr>\n",
              "    <tr>\n",
              "      <th>3</th>\n",
              "      <td>4.7</td>\n",
              "      <td>3.2</td>\n",
              "      <td>1.3</td>\n",
              "      <td>0.2</td>\n",
              "      <td>Iris-setosa</td>\n",
              "    </tr>\n",
              "    <tr>\n",
              "      <th>4</th>\n",
              "      <td>4.6</td>\n",
              "      <td>3.1</td>\n",
              "      <td>1.5</td>\n",
              "      <td>0.2</td>\n",
              "      <td>Iris-setosa</td>\n",
              "    </tr>\n",
              "    <tr>\n",
              "      <th>...</th>\n",
              "      <td>...</td>\n",
              "      <td>...</td>\n",
              "      <td>...</td>\n",
              "      <td>...</td>\n",
              "      <td>...</td>\n",
              "    </tr>\n",
              "    <tr>\n",
              "      <th>146</th>\n",
              "      <td>6.7</td>\n",
              "      <td>3.0</td>\n",
              "      <td>5.2</td>\n",
              "      <td>2.3</td>\n",
              "      <td>Iris-virginica</td>\n",
              "    </tr>\n",
              "    <tr>\n",
              "      <th>147</th>\n",
              "      <td>6.3</td>\n",
              "      <td>2.5</td>\n",
              "      <td>5.0</td>\n",
              "      <td>1.9</td>\n",
              "      <td>Iris-virginica</td>\n",
              "    </tr>\n",
              "    <tr>\n",
              "      <th>148</th>\n",
              "      <td>6.5</td>\n",
              "      <td>3.0</td>\n",
              "      <td>5.2</td>\n",
              "      <td>2.0</td>\n",
              "      <td>Iris-virginica</td>\n",
              "    </tr>\n",
              "    <tr>\n",
              "      <th>149</th>\n",
              "      <td>6.2</td>\n",
              "      <td>3.4</td>\n",
              "      <td>5.4</td>\n",
              "      <td>2.3</td>\n",
              "      <td>Iris-virginica</td>\n",
              "    </tr>\n",
              "    <tr>\n",
              "      <th>150</th>\n",
              "      <td>5.9</td>\n",
              "      <td>3.0</td>\n",
              "      <td>5.1</td>\n",
              "      <td>1.8</td>\n",
              "      <td>Iris-virginica</td>\n",
              "    </tr>\n",
              "  </tbody>\n",
              "</table>\n",
              "<p>151 rows × 5 columns</p>\n",
              "</div>"
            ],
            "text/plain": [
              "      sepal length   sepal width   petal length   petal width          target\n",
              "Id   SepalLengthCm  SepalWidthCm  PetalLengthCm  PetalWidthCm         Species\n",
              "1              5.1           3.5            1.4           0.2     Iris-setosa\n",
              "2              4.9           3.0            1.4           0.2     Iris-setosa\n",
              "3              4.7           3.2            1.3           0.2     Iris-setosa\n",
              "4              4.6           3.1            1.5           0.2     Iris-setosa\n",
              "..             ...           ...            ...           ...             ...\n",
              "146            6.7           3.0            5.2           2.3  Iris-virginica\n",
              "147            6.3           2.5            5.0           1.9  Iris-virginica\n",
              "148            6.5           3.0            5.2           2.0  Iris-virginica\n",
              "149            6.2           3.4            5.4           2.3  Iris-virginica\n",
              "150            5.9           3.0            5.1           1.8  Iris-virginica\n",
              "\n",
              "[151 rows x 5 columns]"
            ]
          },
          "metadata": {
            "tags": []
          },
          "execution_count": 4
        }
      ]
    },
    {
      "cell_type": "code",
      "metadata": {
        "colab": {
          "base_uri": "https://localhost:8080/",
          "height": 419
        },
        "id": "pEFticX--_2x",
        "outputId": "cff240ac-2f36-4d61-dacc-9ea11e7e13d6"
      },
      "source": [
        "#prepare the data\n",
        "x = data.iloc[1:,0:4]\n",
        "x"
      ],
      "execution_count": null,
      "outputs": [
        {
          "output_type": "execute_result",
          "data": {
            "text/html": [
              "<div>\n",
              "<style scoped>\n",
              "    .dataframe tbody tr th:only-of-type {\n",
              "        vertical-align: middle;\n",
              "    }\n",
              "\n",
              "    .dataframe tbody tr th {\n",
              "        vertical-align: top;\n",
              "    }\n",
              "\n",
              "    .dataframe thead th {\n",
              "        text-align: right;\n",
              "    }\n",
              "</style>\n",
              "<table border=\"1\" class=\"dataframe\">\n",
              "  <thead>\n",
              "    <tr style=\"text-align: right;\">\n",
              "      <th></th>\n",
              "      <th>sepal length</th>\n",
              "      <th>sepal width</th>\n",
              "      <th>petal length</th>\n",
              "      <th>petal width</th>\n",
              "    </tr>\n",
              "  </thead>\n",
              "  <tbody>\n",
              "    <tr>\n",
              "      <th>1</th>\n",
              "      <td>5.1</td>\n",
              "      <td>3.5</td>\n",
              "      <td>1.4</td>\n",
              "      <td>0.2</td>\n",
              "    </tr>\n",
              "    <tr>\n",
              "      <th>2</th>\n",
              "      <td>4.9</td>\n",
              "      <td>3.0</td>\n",
              "      <td>1.4</td>\n",
              "      <td>0.2</td>\n",
              "    </tr>\n",
              "    <tr>\n",
              "      <th>3</th>\n",
              "      <td>4.7</td>\n",
              "      <td>3.2</td>\n",
              "      <td>1.3</td>\n",
              "      <td>0.2</td>\n",
              "    </tr>\n",
              "    <tr>\n",
              "      <th>4</th>\n",
              "      <td>4.6</td>\n",
              "      <td>3.1</td>\n",
              "      <td>1.5</td>\n",
              "      <td>0.2</td>\n",
              "    </tr>\n",
              "    <tr>\n",
              "      <th>5</th>\n",
              "      <td>5.0</td>\n",
              "      <td>3.6</td>\n",
              "      <td>1.4</td>\n",
              "      <td>0.2</td>\n",
              "    </tr>\n",
              "    <tr>\n",
              "      <th>...</th>\n",
              "      <td>...</td>\n",
              "      <td>...</td>\n",
              "      <td>...</td>\n",
              "      <td>...</td>\n",
              "    </tr>\n",
              "    <tr>\n",
              "      <th>146</th>\n",
              "      <td>6.7</td>\n",
              "      <td>3.0</td>\n",
              "      <td>5.2</td>\n",
              "      <td>2.3</td>\n",
              "    </tr>\n",
              "    <tr>\n",
              "      <th>147</th>\n",
              "      <td>6.3</td>\n",
              "      <td>2.5</td>\n",
              "      <td>5.0</td>\n",
              "      <td>1.9</td>\n",
              "    </tr>\n",
              "    <tr>\n",
              "      <th>148</th>\n",
              "      <td>6.5</td>\n",
              "      <td>3.0</td>\n",
              "      <td>5.2</td>\n",
              "      <td>2.0</td>\n",
              "    </tr>\n",
              "    <tr>\n",
              "      <th>149</th>\n",
              "      <td>6.2</td>\n",
              "      <td>3.4</td>\n",
              "      <td>5.4</td>\n",
              "      <td>2.3</td>\n",
              "    </tr>\n",
              "    <tr>\n",
              "      <th>150</th>\n",
              "      <td>5.9</td>\n",
              "      <td>3.0</td>\n",
              "      <td>5.1</td>\n",
              "      <td>1.8</td>\n",
              "    </tr>\n",
              "  </tbody>\n",
              "</table>\n",
              "<p>150 rows × 4 columns</p>\n",
              "</div>"
            ],
            "text/plain": [
              "    sepal length sepal width petal length petal width\n",
              "1            5.1         3.5          1.4         0.2\n",
              "2            4.9         3.0          1.4         0.2\n",
              "3            4.7         3.2          1.3         0.2\n",
              "4            4.6         3.1          1.5         0.2\n",
              "5            5.0         3.6          1.4         0.2\n",
              "..           ...         ...          ...         ...\n",
              "146          6.7         3.0          5.2         2.3\n",
              "147          6.3         2.5          5.0         1.9\n",
              "148          6.5         3.0          5.2         2.0\n",
              "149          6.2         3.4          5.4         2.3\n",
              "150          5.9         3.0          5.1         1.8\n",
              "\n",
              "[150 rows x 4 columns]"
            ]
          },
          "metadata": {
            "tags": []
          },
          "execution_count": 5
        }
      ]
    },
    {
      "cell_type": "code",
      "metadata": {
        "colab": {
          "base_uri": "https://localhost:8080/"
        },
        "id": "LE3o-QBf_XCv",
        "outputId": "1c701897-a7f2-4eb2-eb14-1f7bf6ebb094"
      },
      "source": [
        "#prepare the target\n",
        "target = data.iloc[1:,4]\n",
        "target"
      ],
      "execution_count": null,
      "outputs": [
        {
          "output_type": "execute_result",
          "data": {
            "text/plain": [
              "1         Iris-setosa\n",
              "2         Iris-setosa\n",
              "3         Iris-setosa\n",
              "4         Iris-setosa\n",
              "5         Iris-setosa\n",
              "            ...      \n",
              "146    Iris-virginica\n",
              "147    Iris-virginica\n",
              "148    Iris-virginica\n",
              "149    Iris-virginica\n",
              "150    Iris-virginica\n",
              "Name: target, Length: 150, dtype: object"
            ]
          },
          "metadata": {
            "tags": []
          },
          "execution_count": 6
        }
      ]
    },
    {
      "cell_type": "code",
      "metadata": {
        "id": "wwV8GXTN_tPq",
        "colab": {
          "base_uri": "https://localhost:8080/",
          "height": 419
        },
        "outputId": "db9d79f6-673f-4b88-a0c4-039234530baf"
      },
      "source": [
        "#Applying it to PCA function\n",
        "mat_reduced = PCA(x.astype(float) , 2)\n",
        " \n",
        "#Creating a Pandas DataFrame of reduced Dataset\n",
        "principal_df = pd.DataFrame(mat_reduced , columns = ['PC1','PC2'])\n",
        "target.reset_index(drop=True, inplace=True)\n",
        "\n",
        "#Concat it with target variable to create a complete Dataset\n",
        "principal_df = pd.concat([principal_df , pd.DataFrame(target)] , axis = 1)\n",
        "principal_df"
      ],
      "execution_count": null,
      "outputs": [
        {
          "output_type": "execute_result",
          "data": {
            "text/html": [
              "<div>\n",
              "<style scoped>\n",
              "    .dataframe tbody tr th:only-of-type {\n",
              "        vertical-align: middle;\n",
              "    }\n",
              "\n",
              "    .dataframe tbody tr th {\n",
              "        vertical-align: top;\n",
              "    }\n",
              "\n",
              "    .dataframe thead th {\n",
              "        text-align: right;\n",
              "    }\n",
              "</style>\n",
              "<table border=\"1\" class=\"dataframe\">\n",
              "  <thead>\n",
              "    <tr style=\"text-align: right;\">\n",
              "      <th></th>\n",
              "      <th>PC1</th>\n",
              "      <th>PC2</th>\n",
              "      <th>target</th>\n",
              "    </tr>\n",
              "  </thead>\n",
              "  <tbody>\n",
              "    <tr>\n",
              "      <th>0</th>\n",
              "      <td>2.684207</td>\n",
              "      <td>0.326607</td>\n",
              "      <td>Iris-setosa</td>\n",
              "    </tr>\n",
              "    <tr>\n",
              "      <th>1</th>\n",
              "      <td>2.715391</td>\n",
              "      <td>-0.169557</td>\n",
              "      <td>Iris-setosa</td>\n",
              "    </tr>\n",
              "    <tr>\n",
              "      <th>2</th>\n",
              "      <td>2.889820</td>\n",
              "      <td>-0.137346</td>\n",
              "      <td>Iris-setosa</td>\n",
              "    </tr>\n",
              "    <tr>\n",
              "      <th>3</th>\n",
              "      <td>2.746437</td>\n",
              "      <td>-0.311124</td>\n",
              "      <td>Iris-setosa</td>\n",
              "    </tr>\n",
              "    <tr>\n",
              "      <th>4</th>\n",
              "      <td>2.728593</td>\n",
              "      <td>0.333925</td>\n",
              "      <td>Iris-setosa</td>\n",
              "    </tr>\n",
              "    <tr>\n",
              "      <th>...</th>\n",
              "      <td>...</td>\n",
              "      <td>...</td>\n",
              "      <td>...</td>\n",
              "    </tr>\n",
              "    <tr>\n",
              "      <th>145</th>\n",
              "      <td>-1.944017</td>\n",
              "      <td>0.187415</td>\n",
              "      <td>Iris-virginica</td>\n",
              "    </tr>\n",
              "    <tr>\n",
              "      <th>146</th>\n",
              "      <td>-1.525664</td>\n",
              "      <td>-0.375021</td>\n",
              "      <td>Iris-virginica</td>\n",
              "    </tr>\n",
              "    <tr>\n",
              "      <th>147</th>\n",
              "      <td>-1.764046</td>\n",
              "      <td>0.078519</td>\n",
              "      <td>Iris-virginica</td>\n",
              "    </tr>\n",
              "    <tr>\n",
              "      <th>148</th>\n",
              "      <td>-1.901629</td>\n",
              "      <td>0.115877</td>\n",
              "      <td>Iris-virginica</td>\n",
              "    </tr>\n",
              "    <tr>\n",
              "      <th>149</th>\n",
              "      <td>-1.389666</td>\n",
              "      <td>-0.282887</td>\n",
              "      <td>Iris-virginica</td>\n",
              "    </tr>\n",
              "  </tbody>\n",
              "</table>\n",
              "<p>150 rows × 3 columns</p>\n",
              "</div>"
            ],
            "text/plain": [
              "          PC1       PC2          target\n",
              "0    2.684207  0.326607     Iris-setosa\n",
              "1    2.715391 -0.169557     Iris-setosa\n",
              "2    2.889820 -0.137346     Iris-setosa\n",
              "3    2.746437 -0.311124     Iris-setosa\n",
              "4    2.728593  0.333925     Iris-setosa\n",
              "..        ...       ...             ...\n",
              "145 -1.944017  0.187415  Iris-virginica\n",
              "146 -1.525664 -0.375021  Iris-virginica\n",
              "147 -1.764046  0.078519  Iris-virginica\n",
              "148 -1.901629  0.115877  Iris-virginica\n",
              "149 -1.389666 -0.282887  Iris-virginica\n",
              "\n",
              "[150 rows x 3 columns]"
            ]
          },
          "metadata": {
            "tags": []
          },
          "execution_count": 7
        }
      ]
    },
    {
      "cell_type": "code",
      "metadata": {
        "colab": {
          "base_uri": "https://localhost:8080/"
        },
        "id": "owQRX3mFfvZB",
        "outputId": "f6b1a07e-17fb-4517-e9eb-33de65ac8a50"
      },
      "source": [
        "mat_reduced"
      ],
      "execution_count": null,
      "outputs": [
        {
          "output_type": "execute_result",
          "data": {
            "text/plain": [
              "array([[ 2.68420713,  0.32660731],\n",
              "       [ 2.71539062, -0.16955685],\n",
              "       [ 2.88981954, -0.13734561],\n",
              "       [ 2.7464372 , -0.31112432],\n",
              "       [ 2.72859298,  0.33392456],\n",
              "       [ 2.27989736,  0.74778271],\n",
              "       [ 2.82089068, -0.08210451],\n",
              "       [ 2.62648199,  0.17040535],\n",
              "       [ 2.88795857, -0.57079803],\n",
              "       [ 2.67384469, -0.1066917 ],\n",
              "       [ 2.50652679,  0.65193501],\n",
              "       [ 2.61314272,  0.02152063],\n",
              "       [ 2.78743398, -0.22774019],\n",
              "       [ 3.22520045, -0.50327991],\n",
              "       [ 2.64354322,  1.1861949 ],\n",
              "       [ 2.38386932,  1.34475434],\n",
              "       [ 2.6225262 ,  0.81808967],\n",
              "       [ 2.64832273,  0.31913667],\n",
              "       [ 2.19907796,  0.87924409],\n",
              "       [ 2.58734619,  0.52047364],\n",
              "       [ 2.3105317 ,  0.39786782],\n",
              "       [ 2.54323491,  0.44003175],\n",
              "       [ 3.21585769,  0.14161557],\n",
              "       [ 2.30312854,  0.10552268],\n",
              "       [ 2.35617109, -0.03120959],\n",
              "       [ 2.50791723, -0.13905634],\n",
              "       [ 2.469056  ,  0.13788731],\n",
              "       [ 2.56239095,  0.37468456],\n",
              "       [ 2.63982127,  0.31929007],\n",
              "       [ 2.63284791, -0.19007583],\n",
              "       [ 2.58846205, -0.19739308],\n",
              "       [ 2.41007734,  0.41808001],\n",
              "       [ 2.64763667,  0.81998263],\n",
              "       [ 2.59715948,  1.10002193],\n",
              "       [ 2.67384469, -0.1066917 ],\n",
              "       [ 2.86699985,  0.0771931 ],\n",
              "       [ 2.62522846,  0.60680001],\n",
              "       [ 2.67384469, -0.1066917 ],\n",
              "       [ 2.98184266, -0.48025005],\n",
              "       [ 2.59032303,  0.23605934],\n",
              "       [ 2.77013891,  0.27105942],\n",
              "       [ 2.85221108, -0.93286537],\n",
              "       [ 2.99829644, -0.33430757],\n",
              "       [ 2.4055141 ,  0.19591726],\n",
              "       [ 2.20883295,  0.44269603],\n",
              "       [ 2.71566519, -0.24268148],\n",
              "       [ 2.53757337,  0.51036755],\n",
              "       [ 2.8403213 , -0.22057634],\n",
              "       [ 2.54268576,  0.58628103],\n",
              "       [ 2.70391231,  0.11501085],\n",
              "       [-1.28479459,  0.68543919],\n",
              "       [-0.93241075,  0.31919809],\n",
              "       [-1.46406132,  0.50418983],\n",
              "       [-0.18096721, -0.82560394],\n",
              "       [-1.08713449,  0.07539039],\n",
              "       [-0.64043675, -0.41732348],\n",
              "       [-1.09522371,  0.28389121],\n",
              "       [ 0.75146714, -1.00110751],\n",
              "       [-1.04329778,  0.22895691],\n",
              "       [ 0.01019007, -0.72057487],\n",
              "       [ 0.5110862 , -1.26249195],\n",
              "       [-0.51109806, -0.10228411],\n",
              "       [-0.26233576, -0.5478933 ],\n",
              "       [-0.98404455, -0.12436042],\n",
              "       [ 0.174864  , -0.25181557],\n",
              "       [-0.92757294,  0.46823621],\n",
              "       [-0.65959279, -0.35197629],\n",
              "       [-0.23454059, -0.33192183],\n",
              "       [-0.94236171, -0.54182226],\n",
              "       [-0.0432464 , -0.58148945],\n",
              "       [-1.11624072, -0.08421401],\n",
              "       [-0.35678657, -0.06682383],\n",
              "       [-1.29646885, -0.32756152],\n",
              "       [-0.92050265, -0.18239036],\n",
              "       [-0.71400821,  0.15037915],\n",
              "       [-0.89964086,  0.32961098],\n",
              "       [-1.33104142,  0.24466952],\n",
              "       [-1.55739627,  0.26739258],\n",
              "       [-0.81245555, -0.16233157],\n",
              "       [ 0.30733476, -0.36508661],\n",
              "       [ 0.07034289, -0.70253793],\n",
              "       [ 0.19188449, -0.67749054],\n",
              "       [-0.13499495, -0.31170964],\n",
              "       [-1.37873698, -0.42120514],\n",
              "       [-0.58727485, -0.48328427],\n",
              "       [-0.8072055 ,  0.19505396],\n",
              "       [-1.22042897,  0.40803534],\n",
              "       [-0.81286779, -0.370679  ],\n",
              "       [-0.24519516, -0.26672804],\n",
              "       [-0.16451343, -0.67966147],\n",
              "       [-0.46303099, -0.66952655],\n",
              "       [-0.89016045, -0.03381244],\n",
              "       [-0.22887905, -0.40225762],\n",
              "       [ 0.70708128, -1.00842476],\n",
              "       [-0.35553304, -0.50321849],\n",
              "       [-0.33112695, -0.21118014],\n",
              "       [-0.37523823, -0.29162202],\n",
              "       [-0.64169028,  0.01907118],\n",
              "       [ 0.90846333, -0.75156873],\n",
              "       [-0.29780791, -0.34701652],\n",
              "       [-2.53172698, -0.01184224],\n",
              "       [-1.41407223, -0.57492506],\n",
              "       [-2.61648461,  0.34193529],\n",
              "       [-1.97081495, -0.18112569],\n",
              "       [-2.34975798, -0.04188255],\n",
              "       [-3.39687992,  0.54716805],\n",
              "       [-0.51938325, -1.19135169],\n",
              "       [-2.9320051 ,  0.35237701],\n",
              "       [-2.31967279, -0.24554817],\n",
              "       [-2.91813423,  0.78038063],\n",
              "       [-1.66193495,  0.2420384 ],\n",
              "       [-1.80234045, -0.21615461],\n",
              "       [-2.16537886,  0.21528028],\n",
              "       [-1.34459422, -0.77641543],\n",
              "       [-1.5852673 , -0.53930705],\n",
              "       [-1.90474358,  0.11881899],\n",
              "       [-1.94924878,  0.04073026],\n",
              "       [-3.48876538,  1.17154454],\n",
              "       [-3.79468686,  0.25326557],\n",
              "       [-1.29832982, -0.76101394],\n",
              "       [-2.42816726,  0.37678197],\n",
              "       [-1.19809737, -0.60557896],\n",
              "       [-3.49926548,  0.45677347],\n",
              "       [-1.38766825, -0.20403099],\n",
              "       [-2.27585365,  0.33338653],\n",
              "       [-2.61419383,  0.55836695],\n",
              "       [-1.25762518, -0.179137  ],\n",
              "       [-1.29066965, -0.11642525],\n",
              "       [-2.12285398, -0.21085488],\n",
              "       [-2.3875644 ,  0.46251925],\n",
              "       [-2.84096093,  0.37274259],\n",
              "       [-3.2323429 ,  1.37052404],\n",
              "       [-2.15873837, -0.21832553],\n",
              "       [-1.4431026 , -0.14380129],\n",
              "       [-1.77964011, -0.50146479],\n",
              "       [-3.07652162,  0.68576444],\n",
              "       [-2.14498686,  0.13890661],\n",
              "       [-1.90486293,  0.04804751],\n",
              "       [-1.16885347, -0.1645025 ],\n",
              "       [-2.10765373,  0.37148225],\n",
              "       [-2.31430339,  0.18260885],\n",
              "       [-1.92245088,  0.40927118],\n",
              "       [-1.41407223, -0.57492506],\n",
              "       [-2.56332271,  0.2759745 ],\n",
              "       [-2.41939122,  0.30350394],\n",
              "       [-1.94401705,  0.18741522],\n",
              "       [-1.52566363, -0.37502085],\n",
              "       [-1.76404594,  0.07851919],\n",
              "       [-1.90162908,  0.11587675],\n",
              "       [-1.38966613, -0.28288671]])"
            ]
          },
          "metadata": {
            "tags": []
          },
          "execution_count": 8
        }
      ]
    },
    {
      "cell_type": "code",
      "metadata": {
        "colab": {
          "base_uri": "https://localhost:8080/",
          "height": 409
        },
        "id": "gA4TvSZa-SRE",
        "outputId": "b4ae14fb-5715-4544-c996-512bf21f51f6"
      },
      "source": [
        "plt.figure(figsize = (6,6))\n",
        "sb.scatterplot(data = principal_df , x = 'PC1',y = 'PC2' , hue = 'target' , s = 60 , palette= 'icefire')"
      ],
      "execution_count": null,
      "outputs": [
        {
          "output_type": "execute_result",
          "data": {
            "text/plain": [
              "<matplotlib.axes._subplots.AxesSubplot at 0x7f565917bb50>"
            ]
          },
          "metadata": {
            "tags": []
          },
          "execution_count": 9
        },
        {
          "output_type": "display_data",
          "data": {
            "image/png": "[encoded data removed]",
            "text/plain": [
              "<Figure size 432x432 with 1 Axes>"
            ]
          },
          "metadata": {
            "tags": [],
            "needs_background": "light"
          }
        }
      ]
    },
    {
      "cell_type": "code",
      "metadata": {
        "colab": {
          "base_uri": "https://localhost:8080/"
        },
        "id": "Pyxb9J1keqxR",
        "outputId": "ee3da92f-eb30-43ab-f98f-42d88e44c3c2"
      },
      "source": [
        "from sklearn.cluster import KMeans\n",
        "kmeans = KMeans(n_clusters=3)\n",
        "kmeans.fit(mat_reduced)\n",
        "y_kmeans = kmeans.predict(mat_reduced)\n",
        "y_kmeans"
      ],
      "execution_count": null,
      "outputs": [
        {
          "output_type": "execute_result",
          "data": {
            "text/plain": [
              "array([0, 0, 0, 0, 0, 0, 0, 0, 0, 0, 0, 0, 0, 0, 0, 0, 0, 0, 0, 0, 0, 0,\n",
              "       0, 0, 0, 0, 0, 0, 0, 0, 0, 0, 0, 0, 0, 0, 0, 0, 0, 0, 0, 0, 0, 0,\n",
              "       0, 0, 0, 0, 0, 0, 2, 1, 2, 1, 1, 1, 1, 1, 1, 1, 1, 1, 1, 1, 1, 1,\n",
              "       1, 1, 1, 1, 1, 1, 1, 1, 1, 1, 1, 2, 1, 1, 1, 1, 1, 1, 1, 1, 1, 1,\n",
              "       1, 1, 1, 1, 1, 1, 1, 1, 1, 1, 1, 1, 2, 1, 2, 2, 2, 2, 1, 2, 2, 2,\n",
              "       2, 2, 2, 1, 1, 2, 2, 2, 2, 1, 2, 1, 2, 1, 2, 2, 1, 1, 2, 2, 2, 2,\n",
              "       2, 1, 2, 2, 2, 2, 1, 2, 2, 2, 1, 2, 2, 2, 1, 2, 2, 1], dtype=int32)"
            ]
          },
          "metadata": {
            "tags": []
          },
          "execution_count": 10
        }
      ]
    },
    {
      "cell_type": "code",
      "metadata": {
        "colab": {
          "base_uri": "https://localhost:8080/",
          "height": 269
        },
        "id": "Nno2fZ-pf3TB",
        "outputId": "015c3b9d-49c9-4a45-d720-e93934341306"
      },
      "source": [
        "plt.scatter(mat_reduced[:, 0], mat_reduced[:, 1], c=y_kmeans, s=30, cmap='viridis')\n",
        "\n",
        "centers = kmeans.cluster_centers_\n",
        "plt.scatter(centers[:, 0], centers[:, 1], c='black', s=200, alpha=0.5);\n"
      ],
      "execution_count": null,
      "outputs": [
        {
          "output_type": "display_data",
          "data": {
            "image/png": "[encoded data removed]",
            "text/plain": [
              "<Figure size 432x288 with 1 Axes>"
            ]
          },
          "metadata": {
            "tags": [],
            "needs_background": "light"
          }
        }
      ]
    },
    {
      "cell_type": "code",
      "metadata": {
        "colab": {
          "base_uri": "https://localhost:8080/",
          "height": 269
        },
        "id": "n95Fu3Nmf_rY",
        "outputId": "8fe61080-7692-48ab-af05-167cf68c40bd"
      },
      "source": [
        "from sklearn.metrics import pairwise_distances_argmin\n",
        "\n",
        "def find_clusters(mat_reduced, n_clusters, rseed=2):\n",
        "    # 1. Randomly choose clusters\n",
        "    rng = np.random.RandomState(rseed)\n",
        "    i = rng.permutation(mat_reduced.shape[0])[:n_clusters]\n",
        "    centers = mat_reduced[i]\n",
        "    \n",
        "    while True:\n",
        "        # 2a. Assign labels based on closest center\n",
        "        labels = pairwise_distances_argmin(mat_reduced, centers)\n",
        "        \n",
        "        # 2b. Find new centers from means of points\n",
        "        new_centers = np.array([mat_reduced[labels == i].mean(0)\n",
        "                                for i in range(n_clusters)])\n",
        "        \n",
        "        # 2c. Check for convergence\n",
        "        if np.all(centers == new_centers):\n",
        "            break\n",
        "        centers = new_centers\n",
        "    \n",
        "    return centers, labels\n",
        "\n",
        "centers, labels = find_clusters(mat_reduced, 3)\n",
        "plt.scatter(mat_reduced[:, 0], mat_reduced[:, 1], c=labels,\n",
        "            s=50, cmap='viridis');"
      ],
      "execution_count": null,
      "outputs": [
        {
          "output_type": "display_data",
          "data": {
            "image/png": "[encoded data removed]",
            "text/plain": [
              "<Figure size 432x288 with 1 Axes>"
            ]
          },
          "metadata": {
            "tags": [],
            "needs_background": "light"
          }
        }
      ]
    },
    {
      "cell_type": "code",
      "metadata": {
        "colab": {
          "base_uri": "https://localhost:8080/",
          "height": 1000
        },
        "id": "MRrIAzN7kxRx",
        "outputId": "df130e36-11de-4430-97e7-dfc9376a22a5"
      },
      "source": [
        "display(labels)\n",
        "display(centers)\n",
        "display(mat_reduced)"
      ],
      "execution_count": null,
      "outputs": [
        {
          "output_type": "display_data",
          "data": {
            "text/plain": [
              "array([0, 1, 1, 1, 0, 0, 1, 0, 1, 1, 0, 1, 1, 1, 0, 0, 0, 0, 0, 0, 0, 0,\n",
              "       0, 0, 1, 1, 0, 0, 0, 1, 1, 0, 0, 0, 1, 0, 0, 1, 1, 0, 0, 1, 1, 0,\n",
              "       0, 1, 0, 1, 0, 0, 2, 2, 2, 2, 2, 2, 2, 1, 2, 2, 1, 2, 2, 2, 2, 2,\n",
              "       2, 2, 2, 2, 2, 2, 2, 2, 2, 2, 2, 2, 2, 2, 2, 2, 2, 2, 2, 2, 2, 2,\n",
              "       2, 2, 2, 2, 2, 1, 2, 2, 2, 2, 1, 2, 2, 2, 2, 2, 2, 2, 2, 2, 2, 2,\n",
              "       2, 2, 2, 2, 2, 2, 2, 2, 2, 2, 2, 2, 2, 2, 2, 2, 2, 2, 2, 2, 2, 2,\n",
              "       2, 2, 2, 2, 2, 2, 2, 2, 2, 2, 2, 2, 2, 2, 2, 2, 2, 2])"
            ]
          },
          "metadata": {
            "tags": []
          }
        },
        {
          "output_type": "display_data",
          "data": {
            "text/plain": [
              "array([[ 2.56201651,  0.48649724],\n",
              "       [ 2.4191517 , -0.37885469],\n",
              "       [-1.40541808, -0.05731672]])"
            ]
          },
          "metadata": {
            "tags": []
          }
        },
        {
          "output_type": "display_data",
          "data": {
            "text/plain": [
              "array([[ 2.68420713,  0.32660731],\n",
              "       [ 2.71539062, -0.16955685],\n",
              "       [ 2.88981954, -0.13734561],\n",
              "       [ 2.7464372 , -0.31112432],\n",
              "       [ 2.72859298,  0.33392456],\n",
              "       [ 2.27989736,  0.74778271],\n",
              "       [ 2.82089068, -0.08210451],\n",
              "       [ 2.62648199,  0.17040535],\n",
              "       [ 2.88795857, -0.57079803],\n",
              "       [ 2.67384469, -0.1066917 ],\n",
              "       [ 2.50652679,  0.65193501],\n",
              "       [ 2.61314272,  0.02152063],\n",
              "       [ 2.78743398, -0.22774019],\n",
              "       [ 3.22520045, -0.50327991],\n",
              "       [ 2.64354322,  1.1861949 ],\n",
              "       [ 2.38386932,  1.34475434],\n",
              "       [ 2.6225262 ,  0.81808967],\n",
              "       [ 2.64832273,  0.31913667],\n",
              "       [ 2.19907796,  0.87924409],\n",
              "       [ 2.58734619,  0.52047364],\n",
              "       [ 2.3105317 ,  0.39786782],\n",
              "       [ 2.54323491,  0.44003175],\n",
              "       [ 3.21585769,  0.14161557],\n",
              "       [ 2.30312854,  0.10552268],\n",
              "       [ 2.35617109, -0.03120959],\n",
              "       [ 2.50791723, -0.13905634],\n",
              "       [ 2.469056  ,  0.13788731],\n",
              "       [ 2.56239095,  0.37468456],\n",
              "       [ 2.63982127,  0.31929007],\n",
              "       [ 2.63284791, -0.19007583],\n",
              "       [ 2.58846205, -0.19739308],\n",
              "       [ 2.41007734,  0.41808001],\n",
              "       [ 2.64763667,  0.81998263],\n",
              "       [ 2.59715948,  1.10002193],\n",
              "       [ 2.67384469, -0.1066917 ],\n",
              "       [ 2.86699985,  0.0771931 ],\n",
              "       [ 2.62522846,  0.60680001],\n",
              "       [ 2.67384469, -0.1066917 ],\n",
              "       [ 2.98184266, -0.48025005],\n",
              "       [ 2.59032303,  0.23605934],\n",
              "       [ 2.77013891,  0.27105942],\n",
              "       [ 2.85221108, -0.93286537],\n",
              "       [ 2.99829644, -0.33430757],\n",
              "       [ 2.4055141 ,  0.19591726],\n",
              "       [ 2.20883295,  0.44269603],\n",
              "       [ 2.71566519, -0.24268148],\n",
              "       [ 2.53757337,  0.51036755],\n",
              "       [ 2.8403213 , -0.22057634],\n",
              "       [ 2.54268576,  0.58628103],\n",
              "       [ 2.70391231,  0.11501085],\n",
              "       [-1.28479459,  0.68543919],\n",
              "       [-0.93241075,  0.31919809],\n",
              "       [-1.46406132,  0.50418983],\n",
              "       [-0.18096721, -0.82560394],\n",
              "       [-1.08713449,  0.07539039],\n",
              "       [-0.64043675, -0.41732348],\n",
              "       [-1.09522371,  0.28389121],\n",
              "       [ 0.75146714, -1.00110751],\n",
              "       [-1.04329778,  0.22895691],\n",
              "       [ 0.01019007, -0.72057487],\n",
              "       [ 0.5110862 , -1.26249195],\n",
              "       [-0.51109806, -0.10228411],\n",
              "       [-0.26233576, -0.5478933 ],\n",
              "       [-0.98404455, -0.12436042],\n",
              "       [ 0.174864  , -0.25181557],\n",
              "       [-0.92757294,  0.46823621],\n",
              "       [-0.65959279, -0.35197629],\n",
              "       [-0.23454059, -0.33192183],\n",
              "       [-0.94236171, -0.54182226],\n",
              "       [-0.0432464 , -0.58148945],\n",
              "       [-1.11624072, -0.08421401],\n",
              "       [-0.35678657, -0.06682383],\n",
              "       [-1.29646885, -0.32756152],\n",
              "       [-0.92050265, -0.18239036],\n",
              "       [-0.71400821,  0.15037915],\n",
              "       [-0.89964086,  0.32961098],\n",
              "       [-1.33104142,  0.24466952],\n",
              "       [-1.55739627,  0.26739258],\n",
              "       [-0.81245555, -0.16233157],\n",
              "       [ 0.30733476, -0.36508661],\n",
              "       [ 0.07034289, -0.70253793],\n",
              "       [ 0.19188449, -0.67749054],\n",
              "       [-0.13499495, -0.31170964],\n",
              "       [-1.37873698, -0.42120514],\n",
              "       [-0.58727485, -0.48328427],\n",
              "       [-0.8072055 ,  0.19505396],\n",
              "       [-1.22042897,  0.40803534],\n",
              "       [-0.81286779, -0.370679  ],\n",
              "       [-0.24519516, -0.26672804],\n",
              "       [-0.16451343, -0.67966147],\n",
              "       [-0.46303099, -0.66952655],\n",
              "       [-0.89016045, -0.03381244],\n",
              "       [-0.22887905, -0.40225762],\n",
              "       [ 0.70708128, -1.00842476],\n",
              "       [-0.35553304, -0.50321849],\n",
              "       [-0.33112695, -0.21118014],\n",
              "       [-0.37523823, -0.29162202],\n",
              "       [-0.64169028,  0.01907118],\n",
              "       [ 0.90846333, -0.75156873],\n",
              "       [-0.29780791, -0.34701652],\n",
              "       [-2.53172698, -0.01184224],\n",
              "       [-1.41407223, -0.57492506],\n",
              "       [-2.61648461,  0.34193529],\n",
              "       [-1.97081495, -0.18112569],\n",
              "       [-2.34975798, -0.04188255],\n",
              "       [-3.39687992,  0.54716805],\n",
              "       [-0.51938325, -1.19135169],\n",
              "       [-2.9320051 ,  0.35237701],\n",
              "       [-2.31967279, -0.24554817],\n",
              "       [-2.91813423,  0.78038063],\n",
              "       [-1.66193495,  0.2420384 ],\n",
              "       [-1.80234045, -0.21615461],\n",
              "       [-2.16537886,  0.21528028],\n",
              "       [-1.34459422, -0.77641543],\n",
              "       [-1.5852673 , -0.53930705],\n",
              "       [-1.90474358,  0.11881899],\n",
              "       [-1.94924878,  0.04073026],\n",
              "       [-3.48876538,  1.17154454],\n",
              "       [-3.79468686,  0.25326557],\n",
              "       [-1.29832982, -0.76101394],\n",
              "       [-2.42816726,  0.37678197],\n",
              "       [-1.19809737, -0.60557896],\n",
              "       [-3.49926548,  0.45677347],\n",
              "       [-1.38766825, -0.20403099],\n",
              "       [-2.27585365,  0.33338653],\n",
              "       [-2.61419383,  0.55836695],\n",
              "       [-1.25762518, -0.179137  ],\n",
              "       [-1.29066965, -0.11642525],\n",
              "       [-2.12285398, -0.21085488],\n",
              "       [-2.3875644 ,  0.46251925],\n",
              "       [-2.84096093,  0.37274259],\n",
              "       [-3.2323429 ,  1.37052404],\n",
              "       [-2.15873837, -0.21832553],\n",
              "       [-1.4431026 , -0.14380129],\n",
              "       [-1.77964011, -0.50146479],\n",
              "       [-3.07652162,  0.68576444],\n",
              "       [-2.14498686,  0.13890661],\n",
              "       [-1.90486293,  0.04804751],\n",
              "       [-1.16885347, -0.1645025 ],\n",
              "       [-2.10765373,  0.37148225],\n",
              "       [-2.31430339,  0.18260885],\n",
              "       [-1.92245088,  0.40927118],\n",
              "       [-1.41407223, -0.57492506],\n",
              "       [-2.56332271,  0.2759745 ],\n",
              "       [-2.41939122,  0.30350394],\n",
              "       [-1.94401705,  0.18741522],\n",
              "       [-1.52566363, -0.37502085],\n",
              "       [-1.76404594,  0.07851919],\n",
              "       [-1.90162908,  0.11587675],\n",
              "       [-1.38966613, -0.28288671]])"
            ]
          },
          "metadata": {
            "tags": []
          }
        }
      ]
    },
    {
      "cell_type": "code",
      "metadata": {
        "id": "uOCOjmJbmlXI"
      },
      "source": [
        "# mengubah y_kmeans dari numpy array ke pandas dataframe\n",
        "y_kmeans = pd.DataFrame(y_kmeans , columns = ['kmeans'])\n",
        "\n",
        "# mengubah labels dari numpy array ke pandas dataframe\n",
        "labels = pd.DataFrame(labels , columns = ['pairwise_distances_argmin'])\n"
      ],
      "execution_count": null,
      "outputs": []
    },
    {
      "cell_type": "code",
      "metadata": {
        "id": "pa5suwoAlfzw"
      },
      "source": [
        "#\n",
        "principal_evd = pd.concat([principal_df , pd.DataFrame(labels), pd.DataFrame(y_kmeans)] , axis = 1)\n"
      ],
      "execution_count": null,
      "outputs": []
    },
    {
      "cell_type": "code",
      "metadata": {
        "colab": {
          "base_uri": "https://localhost:8080/"
        },
        "id": "w6CGPRMsqpvr",
        "outputId": "5437646d-4c0e-40c3-fe79-6a8706d8ac94"
      },
      "source": [
        "principal_evd['target'] = pd.factorize(principal_evd['target'])[0]\n",
        "principal_evd['target']\n"
      ],
      "execution_count": null,
      "outputs": [
        {
          "output_type": "execute_result",
          "data": {
            "text/plain": [
              "0      0\n",
              "1      0\n",
              "2      0\n",
              "3      0\n",
              "4      0\n",
              "      ..\n",
              "145    2\n",
              "146    2\n",
              "147    2\n",
              "148    2\n",
              "149    2\n",
              "Name: target, Length: 150, dtype: int64"
            ]
          },
          "metadata": {
            "tags": []
          },
          "execution_count": 16
        }
      ]
    },
    {
      "cell_type": "code",
      "metadata": {
        "id": "Nq5zKl6MZCgO",
        "colab": {
          "base_uri": "https://localhost:8080/"
        },
        "outputId": "6542531b-c8fa-4bba-c050-9290e7973401"
      },
      "source": [
        "#menghitung jumlah cluster pairwise_distances_argmin yang bernilai True terhadap target\n",
        "print(sum(principal_evd['target'] == principal_evd['pairwise_distances_argmin']))\n",
        "\n",
        "#menghitung jumlah cluster kmeans yang bernilai True terhadap target\n",
        "print(sum(principal_evd['target'] == principal_evd['kmeans']))\n",
        "\n",
        "#menghitung jumlah cluster kmeans yang bernilai True\n",
        "print(sum(principal_evd['pairwise_distances_argmin'] == principal_evd['kmeans']))"
      ],
      "execution_count": null,
      "outputs": [
        {
          "output_type": "stream",
          "text": [
            "84\n",
            "133\n",
            "73\n"
          ],
          "name": "stdout"
        }
      ]
    },
    {
      "cell_type": "code",
      "metadata": {
        "colab": {
          "base_uri": "https://localhost:8080/",
          "height": 419
        },
        "id": "f5MqONxEriQ8",
        "outputId": "3f1d8e6f-f18d-46db-f133-5fccbd319725"
      },
      "source": [
        "principal_evd"
      ],
      "execution_count": null,
      "outputs": [
        {
          "output_type": "execute_result",
          "data": {
            "text/html": [
              "<div>\n",
              "<style scoped>\n",
              "    .dataframe tbody tr th:only-of-type {\n",
              "        vertical-align: middle;\n",
              "    }\n",
              "\n",
              "    .dataframe tbody tr th {\n",
              "        vertical-align: top;\n",
              "    }\n",
              "\n",
              "    .dataframe thead th {\n",
              "        text-align: right;\n",
              "    }\n",
              "</style>\n",
              "<table border=\"1\" class=\"dataframe\">\n",
              "  <thead>\n",
              "    <tr style=\"text-align: right;\">\n",
              "      <th></th>\n",
              "      <th>PC1</th>\n",
              "      <th>PC2</th>\n",
              "      <th>target</th>\n",
              "      <th>pairwise_distances_argmin</th>\n",
              "      <th>kmeans</th>\n",
              "    </tr>\n",
              "  </thead>\n",
              "  <tbody>\n",
              "    <tr>\n",
              "      <th>0</th>\n",
              "      <td>2.684207</td>\n",
              "      <td>0.326607</td>\n",
              "      <td>0</td>\n",
              "      <td>0</td>\n",
              "      <td>0</td>\n",
              "    </tr>\n",
              "    <tr>\n",
              "      <th>1</th>\n",
              "      <td>2.715391</td>\n",
              "      <td>-0.169557</td>\n",
              "      <td>0</td>\n",
              "      <td>1</td>\n",
              "      <td>0</td>\n",
              "    </tr>\n",
              "    <tr>\n",
              "      <th>2</th>\n",
              "      <td>2.889820</td>\n",
              "      <td>-0.137346</td>\n",
              "      <td>0</td>\n",
              "      <td>1</td>\n",
              "      <td>0</td>\n",
              "    </tr>\n",
              "    <tr>\n",
              "      <th>3</th>\n",
              "      <td>2.746437</td>\n",
              "      <td>-0.311124</td>\n",
              "      <td>0</td>\n",
              "      <td>1</td>\n",
              "      <td>0</td>\n",
              "    </tr>\n",
              "    <tr>\n",
              "      <th>4</th>\n",
              "      <td>2.728593</td>\n",
              "      <td>0.333925</td>\n",
              "      <td>0</td>\n",
              "      <td>0</td>\n",
              "      <td>0</td>\n",
              "    </tr>\n",
              "    <tr>\n",
              "      <th>...</th>\n",
              "      <td>...</td>\n",
              "      <td>...</td>\n",
              "      <td>...</td>\n",
              "      <td>...</td>\n",
              "      <td>...</td>\n",
              "    </tr>\n",
              "    <tr>\n",
              "      <th>145</th>\n",
              "      <td>-1.944017</td>\n",
              "      <td>0.187415</td>\n",
              "      <td>2</td>\n",
              "      <td>2</td>\n",
              "      <td>2</td>\n",
              "    </tr>\n",
              "    <tr>\n",
              "      <th>146</th>\n",
              "      <td>-1.525664</td>\n",
              "      <td>-0.375021</td>\n",
              "      <td>2</td>\n",
              "      <td>2</td>\n",
              "      <td>1</td>\n",
              "    </tr>\n",
              "    <tr>\n",
              "      <th>147</th>\n",
              "      <td>-1.764046</td>\n",
              "      <td>0.078519</td>\n",
              "      <td>2</td>\n",
              "      <td>2</td>\n",
              "      <td>2</td>\n",
              "    </tr>\n",
              "    <tr>\n",
              "      <th>148</th>\n",
              "      <td>-1.901629</td>\n",
              "      <td>0.115877</td>\n",
              "      <td>2</td>\n",
              "      <td>2</td>\n",
              "      <td>2</td>\n",
              "    </tr>\n",
              "    <tr>\n",
              "      <th>149</th>\n",
              "      <td>-1.389666</td>\n",
              "      <td>-0.282887</td>\n",
              "      <td>2</td>\n",
              "      <td>2</td>\n",
              "      <td>1</td>\n",
              "    </tr>\n",
              "  </tbody>\n",
              "</table>\n",
              "<p>150 rows × 5 columns</p>\n",
              "</div>"
            ],
            "text/plain": [
              "          PC1       PC2  target  pairwise_distances_argmin  kmeans\n",
              "0    2.684207  0.326607       0                          0       0\n",
              "1    2.715391 -0.169557       0                          1       0\n",
              "2    2.889820 -0.137346       0                          1       0\n",
              "3    2.746437 -0.311124       0                          1       0\n",
              "4    2.728593  0.333925       0                          0       0\n",
              "..        ...       ...     ...                        ...     ...\n",
              "145 -1.944017  0.187415       2                          2       2\n",
              "146 -1.525664 -0.375021       2                          2       1\n",
              "147 -1.764046  0.078519       2                          2       2\n",
              "148 -1.901629  0.115877       2                          2       2\n",
              "149 -1.389666 -0.282887       2                          2       1\n",
              "\n",
              "[150 rows x 5 columns]"
            ]
          },
          "metadata": {
            "tags": []
          },
          "execution_count": 18
        }
      ]
    },
    {
      "cell_type": "code",
      "metadata": {
        "id": "AxHSo-rhT6tT"
      },
      "source": [
        "import sklearn.metrics as sm"
      ],
      "execution_count": null,
      "outputs": []
    },
    {
      "cell_type": "code",
      "metadata": {
        "id": "CPu_7b1UT6zQ",
        "colab": {
          "base_uri": "https://localhost:8080/"
        },
        "outputId": "2629692c-69e8-42a7-ee2b-569496b5e5c2"
      },
      "source": [
        "print('Akurasi KMeans sebesar: ', sm.accuracy_score(principal_evd['kmeans'], principal_evd['target']))\n",
        "print('Akurasi pairwise_distances_argmin sebesar: ', sm.accuracy_score(principal_evd['kmeans'], principal_evd['pairwise_distances_argmin']))\n",
        "\n"
      ],
      "execution_count": null,
      "outputs": [
        {
          "output_type": "stream",
          "text": [
            "Akurasi KMeans sebesar:  0.8866666666666667\n",
            "Akurasi pairwise_distances_argmin sebesar:  0.4866666666666667\n"
          ],
          "name": "stdout"
        }
      ]
    },
    {
      "cell_type": "markdown",
      "metadata": {
        "id": "Meh6BIkpUPwJ"
      },
      "source": [
        "pada percobaan ini dataset iris memiliki feature yang direduksi menggunakan PCA EVD, kemudian dilakukan clustering menggunakan 2 cara algoritma KMeans yaitu menggunakan library sklearn.cluster.KMeans dan sklearn.metrics.pairwise_distances_argmin. \n",
        "\n",
        "Dari hasil clustering didapat hasil klasterisasi yang berbeda antara library sklearn.cluster.KMeans dan sklearn.metrics.pairwise_distances_argmin. Akurasi  \n",
        "klearn.cluster.KMeans lebih baik dibandingkan sklearn.metrics.pairwise_distances_argmin"
      ]
    }
  ]
}