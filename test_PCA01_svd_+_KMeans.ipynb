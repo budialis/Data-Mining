{
  "nbformat": 4,
  "nbformat_minor": 0,
  "metadata": {
    "colab": {
      "name": "test_PCA01_svd + KMeans.ipynb",
      "provenance": [],
      "collapsed_sections": [],
      "include_colab_link": true
    },
    "kernelspec": {
      "name": "python3",
      "display_name": "Python 3"
    },
    "language_info": {
      "name": "python"
    }
  },
  "cells": [
    {
      "cell_type": "markdown",
      "metadata": {
        "id": "view-in-github",
        "colab_type": "text"
      },
      "source": [
        "<a href=\"https://colab.research.google.com/github/budialis/Data-Mining/blob/main/test_PCA01_svd_%2B_KMeans.ipynb\" target=\"_parent\"><img src=\"https://colab.research.google.com/assets/colab-badge.svg\" alt=\"Open In Colab\"/></a>"
      ]
    },
    {
      "cell_type": "code",
      "metadata": {
        "id": "c05QYFaOzCWZ"
      },
      "source": [
        "import pandas as pd\n",
        "import numpy as np\n",
        "import seaborn as sb\n",
        "import matplotlib.pyplot as plt"
      ],
      "execution_count": 55,
      "outputs": []
    },
    {
      "cell_type": "code",
      "metadata": {
        "colab": {
          "base_uri": "https://localhost:8080/"
        },
        "id": "UQd2Hn792cMT",
        "outputId": "8910a243-09e5-4800-f50a-97395ada7fdf"
      },
      "source": [
        "from google.colab import drive\n",
        "drive.mount('/content/drive')"
      ],
      "execution_count": 56,
      "outputs": [
        {
          "output_type": "stream",
          "text": [
            "Drive already mounted at /content/drive; to attempt to forcibly remount, call drive.mount(\"/content/drive\", force_remount=True).\n"
          ],
          "name": "stdout"
        }
      ]
    },
    {
      "cell_type": "code",
      "metadata": {
        "colab": {
          "base_uri": "https://localhost:8080/",
          "height": 419
        },
        "id": "nx3i4_Tl96uY",
        "outputId": "18e7132c-8242-48db-8c58-70f13b71673e"
      },
      "source": [
        "#Get the IRIS dataset\n",
        "url = \"/content/drive/MyDrive/Data Mining/Iris.txt\"\n",
        "data = pd.read_csv(url, names=['sepal length','sepal width','petal length','petal width','target'])\n",
        " \n",
        "data"
      ],
      "execution_count": 57,
      "outputs": [
        {
          "output_type": "execute_result",
          "data": {
            "text/html": [
              "<div>\n",
              "<style scoped>\n",
              "    .dataframe tbody tr th:only-of-type {\n",
              "        vertical-align: middle;\n",
              "    }\n",
              "\n",
              "    .dataframe tbody tr th {\n",
              "        vertical-align: top;\n",
              "    }\n",
              "\n",
              "    .dataframe thead th {\n",
              "        text-align: right;\n",
              "    }\n",
              "</style>\n",
              "<table border=\"1\" class=\"dataframe\">\n",
              "  <thead>\n",
              "    <tr style=\"text-align: right;\">\n",
              "      <th></th>\n",
              "      <th>sepal length</th>\n",
              "      <th>sepal width</th>\n",
              "      <th>petal length</th>\n",
              "      <th>petal width</th>\n",
              "      <th>target</th>\n",
              "    </tr>\n",
              "  </thead>\n",
              "  <tbody>\n",
              "    <tr>\n",
              "      <th>Id</th>\n",
              "      <td>SepalLengthCm</td>\n",
              "      <td>SepalWidthCm</td>\n",
              "      <td>PetalLengthCm</td>\n",
              "      <td>PetalWidthCm</td>\n",
              "      <td>Species</td>\n",
              "    </tr>\n",
              "    <tr>\n",
              "      <th>1</th>\n",
              "      <td>5.1</td>\n",
              "      <td>3.5</td>\n",
              "      <td>1.4</td>\n",
              "      <td>0.2</td>\n",
              "      <td>Iris-setosa</td>\n",
              "    </tr>\n",
              "    <tr>\n",
              "      <th>2</th>\n",
              "      <td>4.9</td>\n",
              "      <td>3.0</td>\n",
              "      <td>1.4</td>\n",
              "      <td>0.2</td>\n",
              "      <td>Iris-setosa</td>\n",
              "    </tr>\n",
              "    <tr>\n",
              "      <th>3</th>\n",
              "      <td>4.7</td>\n",
              "      <td>3.2</td>\n",
              "      <td>1.3</td>\n",
              "      <td>0.2</td>\n",
              "      <td>Iris-setosa</td>\n",
              "    </tr>\n",
              "    <tr>\n",
              "      <th>4</th>\n",
              "      <td>4.6</td>\n",
              "      <td>3.1</td>\n",
              "      <td>1.5</td>\n",
              "      <td>0.2</td>\n",
              "      <td>Iris-setosa</td>\n",
              "    </tr>\n",
              "    <tr>\n",
              "      <th>...</th>\n",
              "      <td>...</td>\n",
              "      <td>...</td>\n",
              "      <td>...</td>\n",
              "      <td>...</td>\n",
              "      <td>...</td>\n",
              "    </tr>\n",
              "    <tr>\n",
              "      <th>146</th>\n",
              "      <td>6.7</td>\n",
              "      <td>3.0</td>\n",
              "      <td>5.2</td>\n",
              "      <td>2.3</td>\n",
              "      <td>Iris-virginica</td>\n",
              "    </tr>\n",
              "    <tr>\n",
              "      <th>147</th>\n",
              "      <td>6.3</td>\n",
              "      <td>2.5</td>\n",
              "      <td>5.0</td>\n",
              "      <td>1.9</td>\n",
              "      <td>Iris-virginica</td>\n",
              "    </tr>\n",
              "    <tr>\n",
              "      <th>148</th>\n",
              "      <td>6.5</td>\n",
              "      <td>3.0</td>\n",
              "      <td>5.2</td>\n",
              "      <td>2.0</td>\n",
              "      <td>Iris-virginica</td>\n",
              "    </tr>\n",
              "    <tr>\n",
              "      <th>149</th>\n",
              "      <td>6.2</td>\n",
              "      <td>3.4</td>\n",
              "      <td>5.4</td>\n",
              "      <td>2.3</td>\n",
              "      <td>Iris-virginica</td>\n",
              "    </tr>\n",
              "    <tr>\n",
              "      <th>150</th>\n",
              "      <td>5.9</td>\n",
              "      <td>3.0</td>\n",
              "      <td>5.1</td>\n",
              "      <td>1.8</td>\n",
              "      <td>Iris-virginica</td>\n",
              "    </tr>\n",
              "  </tbody>\n",
              "</table>\n",
              "<p>151 rows × 5 columns</p>\n",
              "</div>"
            ],
            "text/plain": [
              "      sepal length   sepal width   petal length   petal width          target\n",
              "Id   SepalLengthCm  SepalWidthCm  PetalLengthCm  PetalWidthCm         Species\n",
              "1              5.1           3.5            1.4           0.2     Iris-setosa\n",
              "2              4.9           3.0            1.4           0.2     Iris-setosa\n",
              "3              4.7           3.2            1.3           0.2     Iris-setosa\n",
              "4              4.6           3.1            1.5           0.2     Iris-setosa\n",
              "..             ...           ...            ...           ...             ...\n",
              "146            6.7           3.0            5.2           2.3  Iris-virginica\n",
              "147            6.3           2.5            5.0           1.9  Iris-virginica\n",
              "148            6.5           3.0            5.2           2.0  Iris-virginica\n",
              "149            6.2           3.4            5.4           2.3  Iris-virginica\n",
              "150            5.9           3.0            5.1           1.8  Iris-virginica\n",
              "\n",
              "[151 rows x 5 columns]"
            ]
          },
          "metadata": {
            "tags": []
          },
          "execution_count": 57
        }
      ]
    },
    {
      "cell_type": "code",
      "metadata": {
        "id": "pEFticX--_2x",
        "colab": {
          "base_uri": "https://localhost:8080/",
          "height": 419
        },
        "outputId": "bc9f590b-820e-4867-9bcf-2a5c00fefb50"
      },
      "source": [
        "#prepare the data\n",
        "x = data.iloc[1:,0:4]\n",
        "x"
      ],
      "execution_count": 58,
      "outputs": [
        {
          "output_type": "execute_result",
          "data": {
            "text/html": [
              "<div>\n",
              "<style scoped>\n",
              "    .dataframe tbody tr th:only-of-type {\n",
              "        vertical-align: middle;\n",
              "    }\n",
              "\n",
              "    .dataframe tbody tr th {\n",
              "        vertical-align: top;\n",
              "    }\n",
              "\n",
              "    .dataframe thead th {\n",
              "        text-align: right;\n",
              "    }\n",
              "</style>\n",
              "<table border=\"1\" class=\"dataframe\">\n",
              "  <thead>\n",
              "    <tr style=\"text-align: right;\">\n",
              "      <th></th>\n",
              "      <th>sepal length</th>\n",
              "      <th>sepal width</th>\n",
              "      <th>petal length</th>\n",
              "      <th>petal width</th>\n",
              "    </tr>\n",
              "  </thead>\n",
              "  <tbody>\n",
              "    <tr>\n",
              "      <th>1</th>\n",
              "      <td>5.1</td>\n",
              "      <td>3.5</td>\n",
              "      <td>1.4</td>\n",
              "      <td>0.2</td>\n",
              "    </tr>\n",
              "    <tr>\n",
              "      <th>2</th>\n",
              "      <td>4.9</td>\n",
              "      <td>3.0</td>\n",
              "      <td>1.4</td>\n",
              "      <td>0.2</td>\n",
              "    </tr>\n",
              "    <tr>\n",
              "      <th>3</th>\n",
              "      <td>4.7</td>\n",
              "      <td>3.2</td>\n",
              "      <td>1.3</td>\n",
              "      <td>0.2</td>\n",
              "    </tr>\n",
              "    <tr>\n",
              "      <th>4</th>\n",
              "      <td>4.6</td>\n",
              "      <td>3.1</td>\n",
              "      <td>1.5</td>\n",
              "      <td>0.2</td>\n",
              "    </tr>\n",
              "    <tr>\n",
              "      <th>5</th>\n",
              "      <td>5.0</td>\n",
              "      <td>3.6</td>\n",
              "      <td>1.4</td>\n",
              "      <td>0.2</td>\n",
              "    </tr>\n",
              "    <tr>\n",
              "      <th>...</th>\n",
              "      <td>...</td>\n",
              "      <td>...</td>\n",
              "      <td>...</td>\n",
              "      <td>...</td>\n",
              "    </tr>\n",
              "    <tr>\n",
              "      <th>146</th>\n",
              "      <td>6.7</td>\n",
              "      <td>3.0</td>\n",
              "      <td>5.2</td>\n",
              "      <td>2.3</td>\n",
              "    </tr>\n",
              "    <tr>\n",
              "      <th>147</th>\n",
              "      <td>6.3</td>\n",
              "      <td>2.5</td>\n",
              "      <td>5.0</td>\n",
              "      <td>1.9</td>\n",
              "    </tr>\n",
              "    <tr>\n",
              "      <th>148</th>\n",
              "      <td>6.5</td>\n",
              "      <td>3.0</td>\n",
              "      <td>5.2</td>\n",
              "      <td>2.0</td>\n",
              "    </tr>\n",
              "    <tr>\n",
              "      <th>149</th>\n",
              "      <td>6.2</td>\n",
              "      <td>3.4</td>\n",
              "      <td>5.4</td>\n",
              "      <td>2.3</td>\n",
              "    </tr>\n",
              "    <tr>\n",
              "      <th>150</th>\n",
              "      <td>5.9</td>\n",
              "      <td>3.0</td>\n",
              "      <td>5.1</td>\n",
              "      <td>1.8</td>\n",
              "    </tr>\n",
              "  </tbody>\n",
              "</table>\n",
              "<p>150 rows × 4 columns</p>\n",
              "</div>"
            ],
            "text/plain": [
              "    sepal length sepal width petal length petal width\n",
              "1            5.1         3.5          1.4         0.2\n",
              "2            4.9         3.0          1.4         0.2\n",
              "3            4.7         3.2          1.3         0.2\n",
              "4            4.6         3.1          1.5         0.2\n",
              "5            5.0         3.6          1.4         0.2\n",
              "..           ...         ...          ...         ...\n",
              "146          6.7         3.0          5.2         2.3\n",
              "147          6.3         2.5          5.0         1.9\n",
              "148          6.5         3.0          5.2         2.0\n",
              "149          6.2         3.4          5.4         2.3\n",
              "150          5.9         3.0          5.1         1.8\n",
              "\n",
              "[150 rows x 4 columns]"
            ]
          },
          "metadata": {
            "tags": []
          },
          "execution_count": 58
        }
      ]
    },
    {
      "cell_type": "code",
      "metadata": {
        "colab": {
          "base_uri": "https://localhost:8080/"
        },
        "id": "LE3o-QBf_XCv",
        "outputId": "f6b4be89-84bc-48d4-99ee-f2cac8b4ec24"
      },
      "source": [
        "#prepare the target\n",
        "target = data.iloc[1:,4]\n",
        "target"
      ],
      "execution_count": 59,
      "outputs": [
        {
          "output_type": "execute_result",
          "data": {
            "text/plain": [
              "1         Iris-setosa\n",
              "2         Iris-setosa\n",
              "3         Iris-setosa\n",
              "4         Iris-setosa\n",
              "5         Iris-setosa\n",
              "            ...      \n",
              "146    Iris-virginica\n",
              "147    Iris-virginica\n",
              "148    Iris-virginica\n",
              "149    Iris-virginica\n",
              "150    Iris-virginica\n",
              "Name: target, Length: 150, dtype: object"
            ]
          },
          "metadata": {
            "tags": []
          },
          "execution_count": 59
        }
      ]
    },
    {
      "cell_type": "code",
      "metadata": {
        "id": "_SU8CksZ9syy",
        "colab": {
          "base_uri": "https://localhost:8080/"
        },
        "outputId": "2a874e9e-fe0e-4f7a-a2a8-65efb510e3eb"
      },
      "source": [
        "# Singular-value decomposition\n",
        "\n",
        "from numpy import array\n",
        "from sklearn.decomposition import TruncatedSVD\n",
        "svd = TruncatedSVD(n_components=2)\n",
        "svd.fit(x)\n",
        "result = svd.transform(x)\n",
        "result\n"
      ],
      "execution_count": 60,
      "outputs": [
        {
          "output_type": "execute_result",
          "data": {
            "text/plain": [
              "array([[ 5.91220352e+00,  2.30344211e+00],\n",
              "       [ 5.57207573e+00,  1.97383104e+00],\n",
              "       [ 5.44648470e+00,  2.09653267e+00],\n",
              "       [ 5.43601924e+00,  1.87168085e+00],\n",
              "       [ 5.87506555e+00,  2.32934799e+00],\n",
              "       [ 6.47699043e+00,  2.32552598e+00],\n",
              "       [ 5.51542859e+00,  2.07156181e+00],\n",
              "       [ 5.85042297e+00,  2.14948016e+00],\n",
              "       [ 5.15851287e+00,  1.77642658e+00],\n",
              "       [ 5.64458172e+00,  1.99190598e+00],\n",
              "       [ 6.26482670e+00,  2.42727947e+00],\n",
              "       [ 5.75150446e+00,  2.02142409e+00],\n",
              "       [ 5.48017099e+00,  1.97972378e+00],\n",
              "       [ 4.95064168e+00,  2.04947793e+00],\n",
              "       [ 6.52528515e+00,  2.91774840e+00],\n",
              "       [ 6.78960484e+00,  2.82549990e+00],\n",
              "       [ 6.27173006e+00,  2.60908548e+00],\n",
              "       [ 5.92899145e+00,  2.26896626e+00],\n",
              "       [ 6.64757408e+00,  2.39126214e+00],\n",
              "       [ 6.09424306e+00,  2.36154331e+00],\n",
              "       [ 6.25352038e+00,  2.12203279e+00],\n",
              "       [ 6.07305216e+00,  2.27257849e+00],\n",
              "       [ 5.36933796e+00,  2.49857510e+00],\n",
              "       [ 6.04055493e+00,  1.87836700e+00],\n",
              "       [ 5.90544974e+00,  1.80875447e+00],\n",
              "       [ 5.74982272e+00,  1.86063438e+00],\n",
              "       [ 5.93531393e+00,  2.00963860e+00],\n",
              "       [ 6.03863542e+00,  2.26113533e+00],\n",
              "       [ 5.94934149e+00,  2.27753623e+00],\n",
              "       [ 5.60042998e+00,  1.88386305e+00],\n",
              "       [ 5.63756795e+00,  1.85795717e+00],\n",
              "       [ 6.18446606e+00,  2.19486085e+00],\n",
              "       [ 6.24972051e+00,  2.62254502e+00],\n",
              "       [ 6.47852260e+00,  2.79919732e+00],\n",
              "       [ 5.64458172e+00,  1.99190598e+00],\n",
              "       [ 5.62052002e+00,  2.25317183e+00],\n",
              "       [ 6.16135565e+00,  2.48866436e+00],\n",
              "       [ 5.64458172e+00,  1.99190598e+00],\n",
              "       [ 5.14517661e+00,  1.90180543e+00],\n",
              "       [ 5.92553978e+00,  2.17806326e+00],\n",
              "       [ 5.80255956e+00,  2.31127304e+00],\n",
              "       [ 4.97122949e+00,  1.51448985e+00],\n",
              "       [ 5.22113428e+00,  2.01078338e+00],\n",
              "       [ 6.00686864e+00,  1.99517588e+00],\n",
              "       [ 6.31629137e+00,  2.04350797e+00],\n",
              "       [ 5.51374686e+00,  1.91077210e+00],\n",
              "       [ 6.12877022e+00,  2.32512928e+00],\n",
              "       [ 5.42268299e+00,  1.99705970e+00],\n",
              "       [ 6.18970990e+00,  2.39869637e+00],\n",
              "       [ 5.76112904e+00,  2.16588106e+00],\n",
              "       [ 9.12033960e+00, -7.00219921e-02],\n",
              "       [ 8.58379652e+00, -1.34216664e-01],\n",
              "       [ 9.12666208e+00, -3.29349657e-01],\n",
              "       [ 7.27578441e+00, -4.58464245e-01],\n",
              "       [ 8.55831307e+00, -3.94479344e-01],\n",
              "       [ 7.87248767e+00, -4.83302548e-01],\n",
              "       [ 8.66607667e+00, -2.84566378e-01],\n",
              "       [ 6.45349296e+00,  2.41828100e-02],\n",
              "       [ 8.63783285e+00, -2.42455583e-01],\n",
              "       [ 7.16782218e+00, -2.89843601e-01],\n",
              "       [ 6.47932460e+00, -3.06969745e-01],\n",
              "       [ 7.97830954e+00, -1.73440471e-01],\n",
              "       [ 7.56302580e+00, -2.66610207e-01],\n",
              "       [ 8.33035185e+00, -4.90736782e-01],\n",
              "       [ 7.37351386e+00,  1.80612202e-01],\n",
              "       [ 8.70306507e+00,  2.40936792e-03],\n",
              "       [ 7.90690441e+00, -4.71859382e-01],\n",
              "       [ 7.65400146e+00, -1.22221396e-01],\n",
              "       [ 8.05377454e+00, -7.36272611e-01],\n",
              "       [ 7.34196793e+00, -1.81061634e-01],\n",
              "       [ 8.41252158e+00, -5.93229301e-01],\n",
              "       [ 7.91637942e+00, -1.45207918e-02],\n",
              "       [ 8.44808823e+00, -8.27782086e-01],\n",
              "       [ 8.25879715e+00, -4.76274069e-01],\n",
              "       [ 8.33365396e+00, -8.69521519e-02],\n",
              "       [ 8.58996943e+00, -8.06627036e-02],\n",
              "       [ 8.86950574e+00, -4.16033961e-01],\n",
              "       [ 9.02334060e+00, -5.80846389e-01],\n",
              "       [ 8.16939279e+00, -4.12015974e-01],\n",
              "       [ 7.23301526e+00,  2.20045780e-01],\n",
              "       [ 7.17755719e+00, -1.93243831e-01],\n",
              "       [ 7.10945416e+00, -8.78781122e-02],\n",
              "       [ 7.58494714e+00, -4.93933360e-02],\n",
              "       [ 8.41811361e+00, -9.80809017e-01],\n",
              "       [ 7.75667080e+00, -5.29025574e-01],\n",
              "       [ 8.37607491e+00, -1.74046941e-01],\n",
              "       [ 8.87379829e+00, -2.44736100e-01],\n",
              "       [ 8.08197922e+00, -5.13358976e-01],\n",
              "       [ 7.66806816e+00, -1.19348195e-01],\n",
              "       [ 7.35174208e+00, -3.49486294e-01],\n",
              "       [ 7.57819336e+00, -5.44080972e-01],\n",
              "       [ 8.31701559e+00, -3.65357932e-01],\n",
              "       [ 7.59828340e+00, -1.74772186e-01],\n",
              "       [ 6.49063093e+00, -1.72306959e-03],\n",
              "       [ 7.60544675e+00, -3.53704996e-01],\n",
              "       [ 7.77771213e+00, -1.27179129e-01],\n",
              "       [ 7.75652123e+00, -2.16143949e-01],\n",
              "       [ 8.18342035e+00, -1.44118344e-01],\n",
              "       [ 6.50454806e+00,  3.14031756e-01],\n",
              "       [ 7.66722730e+00, -1.99743050e-01],\n",
              "       [ 9.48426430e+00, -1.51641735e+00],\n",
              "       [ 8.31824380e+00, -1.14140274e+00],\n",
              "       [ 9.85279540e+00, -1.24242625e+00],\n",
              "       [ 9.00957304e+00, -1.20948284e+00],\n",
              "       [ 9.36756741e+00, -1.37751080e+00],\n",
              "       [ 1.05875851e+01, -1.59573990e+00],\n",
              "       [ 7.22476846e+00, -1.01333762e+00],\n",
              "       [ 1.01199467e+01, -1.41988100e+00],\n",
              "       [ 9.26075510e+00, -1.45488611e+00],\n",
              "       [ 1.03255671e+01, -1.16659243e+00],\n",
              "       [ 9.05074356e+00, -7.03352038e-01],\n",
              "       [ 8.87157482e+00, -1.11168392e+00],\n",
              "       [ 9.42218461e+00, -1.04461604e+00],\n",
              "       [ 8.13264217e+00, -1.24254976e+00],\n",
              "       [ 8.44016231e+00, -1.25929299e+00],\n",
              "       [ 9.12862074e+00, -9.77142417e-01],\n",
              "       [ 9.14647039e+00, -1.02693780e+00],\n",
              "       [ 1.10346356e+01, -1.23661071e+00],\n",
              "       [ 1.06983077e+01, -2.06673401e+00],\n",
              "       [ 8.16011640e+00, -1.14788818e+00],\n",
              "       [ 9.70946514e+00, -1.11778643e+00],\n",
              "       [ 8.12014678e+00, -1.03677605e+00],\n",
              "       [ 1.06212714e+01, -1.71254878e+00],\n",
              "       [ 8.57440971e+00, -8.22231669e-01],\n",
              "       [ 9.56363450e+00, -1.05151196e+00],\n",
              "       [ 1.00048212e+01, -1.07232755e+00],\n",
              "       [ 8.48595665e+00, -7.25435915e-01],\n",
              "       [ 8.53811261e+00, -7.15930934e-01],\n",
              "       [ 9.09707481e+00, -1.33881625e+00],\n",
              "       [ 9.79265744e+00, -9.70574060e-01],\n",
              "       [ 1.00712425e+01, -1.33848298e+00],\n",
              "       [ 1.09973481e+01, -8.97823210e-01],\n",
              "       [ 9.11386274e+00, -1.37329210e+00],\n",
              "       [ 8.66465493e+00, -8.06094909e-01],\n",
              "       [ 8.67825118e+00, -1.29221258e+00],\n",
              "       [ 1.04397023e+01, -1.28165912e+00],\n",
              "       [ 9.30019482e+00, -1.14389303e+00],\n",
              "       [ 9.10933242e+00, -1.00103192e+00],\n",
              "       [ 8.41168071e+00, -6.73624156e-01],\n",
              "       [ 9.48396516e+00, -8.90654098e-01],\n",
              "       [ 9.48672553e+00, -1.19302757e+00],\n",
              "       [ 9.36359574e+00, -7.46936164e-01],\n",
              "       [ 8.31824380e+00, -1.14140274e+00],\n",
              "       [ 9.73697852e+00, -1.28814928e+00],\n",
              "       [ 9.63078623e+00, -1.18941534e+00],\n",
              "       [ 9.22669839e+00, -9.29481206e-01],\n",
              "       [ 8.56655506e+00, -1.03657534e+00],\n",
              "       [ 9.02610098e+00, -8.83219863e-01],\n",
              "       [ 9.10565990e+00, -9.96220532e-01],\n",
              "       [ 8.49050919e+00, -9.14876875e-01]])"
            ]
          },
          "metadata": {
            "tags": []
          },
          "execution_count": 60
        }
      ]
    },
    {
      "cell_type": "code",
      "metadata": {
        "id": "wwV8GXTN_tPq",
        "colab": {
          "base_uri": "https://localhost:8080/",
          "height": 419
        },
        "outputId": "1c9c2727-7ff6-499a-b37a-c60dfb0a8ddc"
      },
      "source": [
        "#Creating a Pandas DataFrame of reduced Dataset\n",
        "principal_df = pd.DataFrame(result , columns = ['PC1','PC2'])\n",
        "principal_df \n",
        "target.reset_index(drop=True, inplace=True)\n",
        "#Concat it with target variable to create a complete Dataset\n",
        "principal_df = pd.concat([principal_df , pd.DataFrame(target)] , axis = 1)\n",
        "principal_df"
      ],
      "execution_count": 61,
      "outputs": [
        {
          "output_type": "execute_result",
          "data": {
            "text/html": [
              "<div>\n",
              "<style scoped>\n",
              "    .dataframe tbody tr th:only-of-type {\n",
              "        vertical-align: middle;\n",
              "    }\n",
              "\n",
              "    .dataframe tbody tr th {\n",
              "        vertical-align: top;\n",
              "    }\n",
              "\n",
              "    .dataframe thead th {\n",
              "        text-align: right;\n",
              "    }\n",
              "</style>\n",
              "<table border=\"1\" class=\"dataframe\">\n",
              "  <thead>\n",
              "    <tr style=\"text-align: right;\">\n",
              "      <th></th>\n",
              "      <th>PC1</th>\n",
              "      <th>PC2</th>\n",
              "      <th>target</th>\n",
              "    </tr>\n",
              "  </thead>\n",
              "  <tbody>\n",
              "    <tr>\n",
              "      <th>0</th>\n",
              "      <td>5.912204</td>\n",
              "      <td>2.303442</td>\n",
              "      <td>Iris-setosa</td>\n",
              "    </tr>\n",
              "    <tr>\n",
              "      <th>1</th>\n",
              "      <td>5.572076</td>\n",
              "      <td>1.973831</td>\n",
              "      <td>Iris-setosa</td>\n",
              "    </tr>\n",
              "    <tr>\n",
              "      <th>2</th>\n",
              "      <td>5.446485</td>\n",
              "      <td>2.096533</td>\n",
              "      <td>Iris-setosa</td>\n",
              "    </tr>\n",
              "    <tr>\n",
              "      <th>3</th>\n",
              "      <td>5.436019</td>\n",
              "      <td>1.871681</td>\n",
              "      <td>Iris-setosa</td>\n",
              "    </tr>\n",
              "    <tr>\n",
              "      <th>4</th>\n",
              "      <td>5.875066</td>\n",
              "      <td>2.329348</td>\n",
              "      <td>Iris-setosa</td>\n",
              "    </tr>\n",
              "    <tr>\n",
              "      <th>...</th>\n",
              "      <td>...</td>\n",
              "      <td>...</td>\n",
              "      <td>...</td>\n",
              "    </tr>\n",
              "    <tr>\n",
              "      <th>145</th>\n",
              "      <td>9.226698</td>\n",
              "      <td>-0.929481</td>\n",
              "      <td>Iris-virginica</td>\n",
              "    </tr>\n",
              "    <tr>\n",
              "      <th>146</th>\n",
              "      <td>8.566555</td>\n",
              "      <td>-1.036575</td>\n",
              "      <td>Iris-virginica</td>\n",
              "    </tr>\n",
              "    <tr>\n",
              "      <th>147</th>\n",
              "      <td>9.026101</td>\n",
              "      <td>-0.883220</td>\n",
              "      <td>Iris-virginica</td>\n",
              "    </tr>\n",
              "    <tr>\n",
              "      <th>148</th>\n",
              "      <td>9.105660</td>\n",
              "      <td>-0.996221</td>\n",
              "      <td>Iris-virginica</td>\n",
              "    </tr>\n",
              "    <tr>\n",
              "      <th>149</th>\n",
              "      <td>8.490509</td>\n",
              "      <td>-0.914877</td>\n",
              "      <td>Iris-virginica</td>\n",
              "    </tr>\n",
              "  </tbody>\n",
              "</table>\n",
              "<p>150 rows × 3 columns</p>\n",
              "</div>"
            ],
            "text/plain": [
              "          PC1       PC2          target\n",
              "0    5.912204  2.303442     Iris-setosa\n",
              "1    5.572076  1.973831     Iris-setosa\n",
              "2    5.446485  2.096533     Iris-setosa\n",
              "3    5.436019  1.871681     Iris-setosa\n",
              "4    5.875066  2.329348     Iris-setosa\n",
              "..        ...       ...             ...\n",
              "145  9.226698 -0.929481  Iris-virginica\n",
              "146  8.566555 -1.036575  Iris-virginica\n",
              "147  9.026101 -0.883220  Iris-virginica\n",
              "148  9.105660 -0.996221  Iris-virginica\n",
              "149  8.490509 -0.914877  Iris-virginica\n",
              "\n",
              "[150 rows x 3 columns]"
            ]
          },
          "metadata": {
            "tags": []
          },
          "execution_count": 61
        }
      ]
    },
    {
      "cell_type": "code",
      "metadata": {
        "colab": {
          "base_uri": "https://localhost:8080/",
          "height": 405
        },
        "id": "gA4TvSZa-SRE",
        "outputId": "665ff2be-5a1d-4509-a728-6c02f811fbdc"
      },
      "source": [
        "plt.figure(figsize = (6,6))\n",
        "sb.scatterplot(data = principal_df , x = 'PC1',y = 'PC2' , hue = 'target' , s = 60 , palette= 'icefire')"
      ],
      "execution_count": 62,
      "outputs": [
        {
          "output_type": "execute_result",
          "data": {
            "text/plain": [
              "<matplotlib.axes._subplots.AxesSubplot at 0x7fad79d9ebd0>"
            ]
          },
          "metadata": {
            "tags": []
          },
          "execution_count": 62
        },
        {
          "output_type": "display_data",
          "data": {
            "image/png": "[encoded data removed]",
            "text/plain": [
              "<Figure size 432x432 with 1 Axes>"
            ]
          },
          "metadata": {
            "tags": [],
            "needs_background": "light"
          }
        }
      ]
    },
    {
      "cell_type": "code",
      "metadata": {
        "id": "WaDKBSCTX9rh",
        "colab": {
          "base_uri": "https://localhost:8080/"
        },
        "outputId": "d75a319c-f00f-469b-ee0b-47f0c27d5e58"
      },
      "source": [
        "from sklearn.cluster import KMeans\n",
        "kmeans = KMeans(n_clusters=3)\n",
        "print(kmeans.fit(result))\n",
        "y_kmeans = kmeans.predict(result)\n",
        "print(y_kmeans)"
      ],
      "execution_count": 63,
      "outputs": [
        {
          "output_type": "stream",
          "text": [
            "KMeans(algorithm='auto', copy_x=True, init='k-means++', max_iter=300,\n",
            "       n_clusters=3, n_init=10, n_jobs=None, precompute_distances='auto',\n",
            "       random_state=None, tol=0.0001, verbose=0)\n",
            "[1 1 1 1 1 1 1 1 1 1 1 1 1 1 1 1 1 1 1 1 1 1 1 1 1 1 1 1 1 1 1 1 1 1 1 1 1\n",
            " 1 1 1 1 1 1 1 1 1 1 1 1 1 0 2 0 2 2 2 2 2 2 2 2 2 2 2 2 2 2 2 2 2 2 2 2 2\n",
            " 2 2 2 0 2 2 2 2 2 2 2 2 2 2 2 2 2 2 2 2 2 2 2 2 2 2 0 2 0 0 0 0 2 0 0 0 0\n",
            " 0 0 2 2 0 0 0 0 2 0 2 0 2 0 0 2 2 0 0 0 0 0 2 0 0 0 0 2 0 0 0 2 0 0 0 2 0\n",
            " 0 2]\n"
          ],
          "name": "stdout"
        }
      ]
    },
    {
      "cell_type": "code",
      "metadata": {
        "colab": {
          "base_uri": "https://localhost:8080/",
          "height": 265
        },
        "id": "mk7qiKoHYLq3",
        "outputId": "bcab32bb-c56e-40a1-d1c7-81206bf1e25f"
      },
      "source": [
        "plt.scatter(result[:, 0], result[:, 1], c=y_kmeans, s=30, cmap='viridis')\n",
        "\n",
        "centers = kmeans.cluster_centers_\n",
        "plt.scatter(centers[:, 0], centers[:, 1], c='black', s=200, alpha=0.5);\n"
      ],
      "execution_count": 64,
      "outputs": [
        {
          "output_type": "display_data",
          "data": {
            "image/png": "[encoded data removed]",
            "text/plain": [
              "<Figure size 432x288 with 1 Axes>"
            ]
          },
          "metadata": {
            "tags": [],
            "needs_background": "light"
          }
        }
      ]
    },
    {
      "cell_type": "code",
      "metadata": {
        "colab": {
          "base_uri": "https://localhost:8080/",
          "height": 265
        },
        "id": "ODeNbnJhdu4Z",
        "outputId": "3e77abd5-9ced-4d48-abc5-9ab0256855f5"
      },
      "source": [
        "from sklearn.metrics import pairwise_distances_argmin\n",
        "\n",
        "def find_clusters(result, n_clusters, rseed=2):\n",
        "    # 1. Randomly choose clusters\n",
        "    rng = np.random.RandomState(rseed)\n",
        "    i = rng.permutation(result.shape[0])[:n_clusters]\n",
        "    centers = result[i]\n",
        "    \n",
        "    while True:\n",
        "        # 2a. Assign labels based on closest center\n",
        "        labels = pairwise_distances_argmin(result, centers)\n",
        "        \n",
        "        # 2b. Find new centers from means of points\n",
        "        new_centers = np.array([result[labels == i].mean(0)\n",
        "                                for i in range(n_clusters)])\n",
        "        \n",
        "        # 2c. Check for convergence\n",
        "        if np.all(centers == new_centers):\n",
        "            break\n",
        "        centers = new_centers\n",
        "    \n",
        "    return centers, labels\n",
        "\n",
        "centers, labels = find_clusters(result, 3)\n",
        "plt.scatter(result[:, 0], result[:, 1], c=labels,\n",
        "            s=50, cmap='viridis');"
      ],
      "execution_count": 65,
      "outputs": [
        {
          "output_type": "display_data",
          "data": {
            "image/png": "[encoded data removed]",
            "text/plain": [
              "<Figure size 432x288 with 1 Axes>"
            ]
          },
          "metadata": {
            "tags": [],
            "needs_background": "light"
          }
        }
      ]
    },
    {
      "cell_type": "code",
      "metadata": {
        "id": "cweWVH6K6EA1",
        "colab": {
          "base_uri": "https://localhost:8080/",
          "height": 1000
        },
        "outputId": "6650eb0a-abb9-4335-9447-7008677989d0"
      },
      "source": [
        "display(labels)\n",
        "display(centers)\n",
        "display(result)"
      ],
      "execution_count": 66,
      "outputs": [
        {
          "output_type": "display_data",
          "data": {
            "text/plain": [
              "array([0, 1, 1, 1, 0, 0, 1, 0, 1, 1, 0, 1, 1, 1, 0, 0, 0, 0, 0, 0, 0, 0,\n",
              "       0, 0, 1, 1, 0, 0, 0, 1, 1, 0, 0, 0, 1, 0, 0, 1, 1, 0, 0, 1, 1, 0,\n",
              "       0, 1, 0, 1, 0, 0, 2, 2, 2, 2, 2, 2, 2, 1, 2, 2, 1, 2, 2, 2, 2, 2,\n",
              "       2, 2, 2, 2, 2, 2, 2, 2, 2, 2, 2, 2, 2, 2, 2, 2, 2, 2, 2, 2, 2, 2,\n",
              "       2, 2, 2, 2, 2, 1, 2, 2, 2, 2, 1, 2, 2, 2, 2, 2, 2, 2, 2, 2, 2, 2,\n",
              "       2, 2, 2, 2, 2, 2, 2, 2, 2, 2, 2, 2, 2, 2, 2, 2, 2, 2, 2, 2, 2, 2,\n",
              "       2, 2, 2, 2, 2, 2, 2, 2, 2, 2, 2, 2, 2, 2, 2, 2, 2, 2])"
            ]
          },
          "metadata": {
            "tags": []
          }
        },
        {
          "output_type": "display_data",
          "data": {
            "text/plain": [
              "array([[ 6.10407158,  2.33350703],\n",
              "       [ 5.63915919,  1.60800075],\n",
              "       [ 8.68142794, -0.73038622]])"
            ]
          },
          "metadata": {
            "tags": []
          }
        },
        {
          "output_type": "display_data",
          "data": {
            "text/plain": [
              "array([[ 5.91220352e+00,  2.30344211e+00],\n",
              "       [ 5.57207573e+00,  1.97383104e+00],\n",
              "       [ 5.44648470e+00,  2.09653267e+00],\n",
              "       [ 5.43601924e+00,  1.87168085e+00],\n",
              "       [ 5.87506555e+00,  2.32934799e+00],\n",
              "       [ 6.47699043e+00,  2.32552598e+00],\n",
              "       [ 5.51542859e+00,  2.07156181e+00],\n",
              "       [ 5.85042297e+00,  2.14948016e+00],\n",
              "       [ 5.15851287e+00,  1.77642658e+00],\n",
              "       [ 5.64458172e+00,  1.99190598e+00],\n",
              "       [ 6.26482670e+00,  2.42727947e+00],\n",
              "       [ 5.75150446e+00,  2.02142409e+00],\n",
              "       [ 5.48017099e+00,  1.97972378e+00],\n",
              "       [ 4.95064168e+00,  2.04947793e+00],\n",
              "       [ 6.52528515e+00,  2.91774840e+00],\n",
              "       [ 6.78960484e+00,  2.82549990e+00],\n",
              "       [ 6.27173006e+00,  2.60908548e+00],\n",
              "       [ 5.92899145e+00,  2.26896626e+00],\n",
              "       [ 6.64757408e+00,  2.39126214e+00],\n",
              "       [ 6.09424306e+00,  2.36154331e+00],\n",
              "       [ 6.25352038e+00,  2.12203279e+00],\n",
              "       [ 6.07305216e+00,  2.27257849e+00],\n",
              "       [ 5.36933796e+00,  2.49857510e+00],\n",
              "       [ 6.04055493e+00,  1.87836700e+00],\n",
              "       [ 5.90544974e+00,  1.80875447e+00],\n",
              "       [ 5.74982272e+00,  1.86063438e+00],\n",
              "       [ 5.93531393e+00,  2.00963860e+00],\n",
              "       [ 6.03863542e+00,  2.26113533e+00],\n",
              "       [ 5.94934149e+00,  2.27753623e+00],\n",
              "       [ 5.60042998e+00,  1.88386305e+00],\n",
              "       [ 5.63756795e+00,  1.85795717e+00],\n",
              "       [ 6.18446606e+00,  2.19486085e+00],\n",
              "       [ 6.24972051e+00,  2.62254502e+00],\n",
              "       [ 6.47852260e+00,  2.79919732e+00],\n",
              "       [ 5.64458172e+00,  1.99190598e+00],\n",
              "       [ 5.62052002e+00,  2.25317183e+00],\n",
              "       [ 6.16135565e+00,  2.48866436e+00],\n",
              "       [ 5.64458172e+00,  1.99190598e+00],\n",
              "       [ 5.14517661e+00,  1.90180543e+00],\n",
              "       [ 5.92553978e+00,  2.17806326e+00],\n",
              "       [ 5.80255956e+00,  2.31127304e+00],\n",
              "       [ 4.97122949e+00,  1.51448985e+00],\n",
              "       [ 5.22113428e+00,  2.01078338e+00],\n",
              "       [ 6.00686864e+00,  1.99517588e+00],\n",
              "       [ 6.31629137e+00,  2.04350797e+00],\n",
              "       [ 5.51374686e+00,  1.91077210e+00],\n",
              "       [ 6.12877022e+00,  2.32512928e+00],\n",
              "       [ 5.42268299e+00,  1.99705970e+00],\n",
              "       [ 6.18970990e+00,  2.39869637e+00],\n",
              "       [ 5.76112904e+00,  2.16588106e+00],\n",
              "       [ 9.12033960e+00, -7.00219921e-02],\n",
              "       [ 8.58379652e+00, -1.34216664e-01],\n",
              "       [ 9.12666208e+00, -3.29349657e-01],\n",
              "       [ 7.27578441e+00, -4.58464245e-01],\n",
              "       [ 8.55831307e+00, -3.94479344e-01],\n",
              "       [ 7.87248767e+00, -4.83302548e-01],\n",
              "       [ 8.66607667e+00, -2.84566378e-01],\n",
              "       [ 6.45349296e+00,  2.41828100e-02],\n",
              "       [ 8.63783285e+00, -2.42455583e-01],\n",
              "       [ 7.16782218e+00, -2.89843601e-01],\n",
              "       [ 6.47932460e+00, -3.06969745e-01],\n",
              "       [ 7.97830954e+00, -1.73440471e-01],\n",
              "       [ 7.56302580e+00, -2.66610207e-01],\n",
              "       [ 8.33035185e+00, -4.90736782e-01],\n",
              "       [ 7.37351386e+00,  1.80612202e-01],\n",
              "       [ 8.70306507e+00,  2.40936792e-03],\n",
              "       [ 7.90690441e+00, -4.71859382e-01],\n",
              "       [ 7.65400146e+00, -1.22221396e-01],\n",
              "       [ 8.05377454e+00, -7.36272611e-01],\n",
              "       [ 7.34196793e+00, -1.81061634e-01],\n",
              "       [ 8.41252158e+00, -5.93229301e-01],\n",
              "       [ 7.91637942e+00, -1.45207918e-02],\n",
              "       [ 8.44808823e+00, -8.27782086e-01],\n",
              "       [ 8.25879715e+00, -4.76274069e-01],\n",
              "       [ 8.33365396e+00, -8.69521519e-02],\n",
              "       [ 8.58996943e+00, -8.06627036e-02],\n",
              "       [ 8.86950574e+00, -4.16033961e-01],\n",
              "       [ 9.02334060e+00, -5.80846389e-01],\n",
              "       [ 8.16939279e+00, -4.12015974e-01],\n",
              "       [ 7.23301526e+00,  2.20045780e-01],\n",
              "       [ 7.17755719e+00, -1.93243831e-01],\n",
              "       [ 7.10945416e+00, -8.78781122e-02],\n",
              "       [ 7.58494714e+00, -4.93933360e-02],\n",
              "       [ 8.41811361e+00, -9.80809017e-01],\n",
              "       [ 7.75667080e+00, -5.29025574e-01],\n",
              "       [ 8.37607491e+00, -1.74046941e-01],\n",
              "       [ 8.87379829e+00, -2.44736100e-01],\n",
              "       [ 8.08197922e+00, -5.13358976e-01],\n",
              "       [ 7.66806816e+00, -1.19348195e-01],\n",
              "       [ 7.35174208e+00, -3.49486294e-01],\n",
              "       [ 7.57819336e+00, -5.44080972e-01],\n",
              "       [ 8.31701559e+00, -3.65357932e-01],\n",
              "       [ 7.59828340e+00, -1.74772186e-01],\n",
              "       [ 6.49063093e+00, -1.72306959e-03],\n",
              "       [ 7.60544675e+00, -3.53704996e-01],\n",
              "       [ 7.77771213e+00, -1.27179129e-01],\n",
              "       [ 7.75652123e+00, -2.16143949e-01],\n",
              "       [ 8.18342035e+00, -1.44118344e-01],\n",
              "       [ 6.50454806e+00,  3.14031756e-01],\n",
              "       [ 7.66722730e+00, -1.99743050e-01],\n",
              "       [ 9.48426430e+00, -1.51641735e+00],\n",
              "       [ 8.31824380e+00, -1.14140274e+00],\n",
              "       [ 9.85279540e+00, -1.24242625e+00],\n",
              "       [ 9.00957304e+00, -1.20948284e+00],\n",
              "       [ 9.36756741e+00, -1.37751080e+00],\n",
              "       [ 1.05875851e+01, -1.59573990e+00],\n",
              "       [ 7.22476846e+00, -1.01333762e+00],\n",
              "       [ 1.01199467e+01, -1.41988100e+00],\n",
              "       [ 9.26075510e+00, -1.45488611e+00],\n",
              "       [ 1.03255671e+01, -1.16659243e+00],\n",
              "       [ 9.05074356e+00, -7.03352038e-01],\n",
              "       [ 8.87157482e+00, -1.11168392e+00],\n",
              "       [ 9.42218461e+00, -1.04461604e+00],\n",
              "       [ 8.13264217e+00, -1.24254976e+00],\n",
              "       [ 8.44016231e+00, -1.25929299e+00],\n",
              "       [ 9.12862074e+00, -9.77142417e-01],\n",
              "       [ 9.14647039e+00, -1.02693780e+00],\n",
              "       [ 1.10346356e+01, -1.23661071e+00],\n",
              "       [ 1.06983077e+01, -2.06673401e+00],\n",
              "       [ 8.16011640e+00, -1.14788818e+00],\n",
              "       [ 9.70946514e+00, -1.11778643e+00],\n",
              "       [ 8.12014678e+00, -1.03677605e+00],\n",
              "       [ 1.06212714e+01, -1.71254878e+00],\n",
              "       [ 8.57440971e+00, -8.22231669e-01],\n",
              "       [ 9.56363450e+00, -1.05151196e+00],\n",
              "       [ 1.00048212e+01, -1.07232755e+00],\n",
              "       [ 8.48595665e+00, -7.25435915e-01],\n",
              "       [ 8.53811261e+00, -7.15930934e-01],\n",
              "       [ 9.09707481e+00, -1.33881625e+00],\n",
              "       [ 9.79265744e+00, -9.70574060e-01],\n",
              "       [ 1.00712425e+01, -1.33848298e+00],\n",
              "       [ 1.09973481e+01, -8.97823210e-01],\n",
              "       [ 9.11386274e+00, -1.37329210e+00],\n",
              "       [ 8.66465493e+00, -8.06094909e-01],\n",
              "       [ 8.67825118e+00, -1.29221258e+00],\n",
              "       [ 1.04397023e+01, -1.28165912e+00],\n",
              "       [ 9.30019482e+00, -1.14389303e+00],\n",
              "       [ 9.10933242e+00, -1.00103192e+00],\n",
              "       [ 8.41168071e+00, -6.73624156e-01],\n",
              "       [ 9.48396516e+00, -8.90654098e-01],\n",
              "       [ 9.48672553e+00, -1.19302757e+00],\n",
              "       [ 9.36359574e+00, -7.46936164e-01],\n",
              "       [ 8.31824380e+00, -1.14140274e+00],\n",
              "       [ 9.73697852e+00, -1.28814928e+00],\n",
              "       [ 9.63078623e+00, -1.18941534e+00],\n",
              "       [ 9.22669839e+00, -9.29481206e-01],\n",
              "       [ 8.56655506e+00, -1.03657534e+00],\n",
              "       [ 9.02610098e+00, -8.83219863e-01],\n",
              "       [ 9.10565990e+00, -9.96220532e-01],\n",
              "       [ 8.49050919e+00, -9.14876875e-01]])"
            ]
          },
          "metadata": {
            "tags": []
          }
        }
      ]
    },
    {
      "cell_type": "code",
      "metadata": {
        "id": "C8nE-bhq7U6y",
        "colab": {
          "base_uri": "https://localhost:8080/"
        },
        "outputId": "c038eac3-befc-4819-b34a-40752ab47799"
      },
      "source": [
        "# mengubah y_kmeans dari numpy array ke pandas dataframe\n",
        "y_kmeans = pd.DataFrame(y_kmeans , columns = ['kmeans'])\n",
        "print(y_kmeans)\n",
        "# mengubah labels dari numpy array ke pandas dataframe\n",
        "labels = pd.DataFrame(labels , columns = ['pairwise_distances_argmin'])\n"
      ],
      "execution_count": 67,
      "outputs": [
        {
          "output_type": "stream",
          "text": [
            "     kmeans\n",
            "0         1\n",
            "1         1\n",
            "2         1\n",
            "3         1\n",
            "4         1\n",
            "..      ...\n",
            "145       0\n",
            "146       2\n",
            "147       0\n",
            "148       0\n",
            "149       2\n",
            "\n",
            "[150 rows x 1 columns]\n"
          ],
          "name": "stdout"
        }
      ]
    },
    {
      "cell_type": "code",
      "metadata": {
        "id": "EFSdpOye7aZD"
      },
      "source": [
        "#\n",
        "principal_svd = pd.concat([principal_df , pd.DataFrame(labels), pd.DataFrame(y_kmeans)] , axis = 1)"
      ],
      "execution_count": 68,
      "outputs": []
    },
    {
      "cell_type": "code",
      "metadata": {
        "id": "QZI9lUq27gIK",
        "colab": {
          "base_uri": "https://localhost:8080/"
        },
        "outputId": "2f7b20c8-289e-49f4-e58d-0c60f7232c6b"
      },
      "source": [
        "principal_svd['target'] = pd.factorize(principal_svd['target'])[0]\n",
        "principal_svd['target']"
      ],
      "execution_count": 69,
      "outputs": [
        {
          "output_type": "execute_result",
          "data": {
            "text/plain": [
              "0      0\n",
              "1      0\n",
              "2      0\n",
              "3      0\n",
              "4      0\n",
              "      ..\n",
              "145    2\n",
              "146    2\n",
              "147    2\n",
              "148    2\n",
              "149    2\n",
              "Name: target, Length: 150, dtype: int64"
            ]
          },
          "metadata": {
            "tags": []
          },
          "execution_count": 69
        }
      ]
    },
    {
      "cell_type": "code",
      "metadata": {
        "id": "ladOFybl7kei",
        "colab": {
          "base_uri": "https://localhost:8080/"
        },
        "outputId": "8af4e233-bd63-4960-8d32-dba13adde438"
      },
      "source": [
        "#menghitung jumlah cluster pairwise_distances_argmin yang bernilai True terhadap target\n",
        "print(sum(principal_svd['target'] == principal_svd['pairwise_distances_argmin']))\n",
        "\n",
        "#menghitung jumlah cluster kmeans yang bernilai True terhadap target\n",
        "print(sum(principal_svd['target'] == principal_svd['kmeans']))\n",
        "\n",
        "#menghitung jumlah cluster kmeans yang bernilai True\n",
        "print(sum(principal_svd['pairwise_distances_argmin'] == principal_svd['kmeans']))"
      ],
      "execution_count": 70,
      "outputs": [
        {
          "output_type": "stream",
          "text": [
            "84\n",
            "14\n",
            "77\n"
          ],
          "name": "stdout"
        }
      ]
    },
    {
      "cell_type": "code",
      "metadata": {
        "id": "DOCmYQFK7wza",
        "colab": {
          "base_uri": "https://localhost:8080/",
          "height": 419
        },
        "outputId": "95e6d9f2-e38f-47cd-8219-6bd02abc1583"
      },
      "source": [
        "principal_svd"
      ],
      "execution_count": 71,
      "outputs": [
        {
          "output_type": "execute_result",
          "data": {
            "text/html": [
              "<div>\n",
              "<style scoped>\n",
              "    .dataframe tbody tr th:only-of-type {\n",
              "        vertical-align: middle;\n",
              "    }\n",
              "\n",
              "    .dataframe tbody tr th {\n",
              "        vertical-align: top;\n",
              "    }\n",
              "\n",
              "    .dataframe thead th {\n",
              "        text-align: right;\n",
              "    }\n",
              "</style>\n",
              "<table border=\"1\" class=\"dataframe\">\n",
              "  <thead>\n",
              "    <tr style=\"text-align: right;\">\n",
              "      <th></th>\n",
              "      <th>PC1</th>\n",
              "      <th>PC2</th>\n",
              "      <th>target</th>\n",
              "      <th>pairwise_distances_argmin</th>\n",
              "      <th>kmeans</th>\n",
              "    </tr>\n",
              "  </thead>\n",
              "  <tbody>\n",
              "    <tr>\n",
              "      <th>0</th>\n",
              "      <td>5.912204</td>\n",
              "      <td>2.303442</td>\n",
              "      <td>0</td>\n",
              "      <td>0</td>\n",
              "      <td>1</td>\n",
              "    </tr>\n",
              "    <tr>\n",
              "      <th>1</th>\n",
              "      <td>5.572076</td>\n",
              "      <td>1.973831</td>\n",
              "      <td>0</td>\n",
              "      <td>1</td>\n",
              "      <td>1</td>\n",
              "    </tr>\n",
              "    <tr>\n",
              "      <th>2</th>\n",
              "      <td>5.446485</td>\n",
              "      <td>2.096533</td>\n",
              "      <td>0</td>\n",
              "      <td>1</td>\n",
              "      <td>1</td>\n",
              "    </tr>\n",
              "    <tr>\n",
              "      <th>3</th>\n",
              "      <td>5.436019</td>\n",
              "      <td>1.871681</td>\n",
              "      <td>0</td>\n",
              "      <td>1</td>\n",
              "      <td>1</td>\n",
              "    </tr>\n",
              "    <tr>\n",
              "      <th>4</th>\n",
              "      <td>5.875066</td>\n",
              "      <td>2.329348</td>\n",
              "      <td>0</td>\n",
              "      <td>0</td>\n",
              "      <td>1</td>\n",
              "    </tr>\n",
              "    <tr>\n",
              "      <th>...</th>\n",
              "      <td>...</td>\n",
              "      <td>...</td>\n",
              "      <td>...</td>\n",
              "      <td>...</td>\n",
              "      <td>...</td>\n",
              "    </tr>\n",
              "    <tr>\n",
              "      <th>145</th>\n",
              "      <td>9.226698</td>\n",
              "      <td>-0.929481</td>\n",
              "      <td>2</td>\n",
              "      <td>2</td>\n",
              "      <td>0</td>\n",
              "    </tr>\n",
              "    <tr>\n",
              "      <th>146</th>\n",
              "      <td>8.566555</td>\n",
              "      <td>-1.036575</td>\n",
              "      <td>2</td>\n",
              "      <td>2</td>\n",
              "      <td>2</td>\n",
              "    </tr>\n",
              "    <tr>\n",
              "      <th>147</th>\n",
              "      <td>9.026101</td>\n",
              "      <td>-0.883220</td>\n",
              "      <td>2</td>\n",
              "      <td>2</td>\n",
              "      <td>0</td>\n",
              "    </tr>\n",
              "    <tr>\n",
              "      <th>148</th>\n",
              "      <td>9.105660</td>\n",
              "      <td>-0.996221</td>\n",
              "      <td>2</td>\n",
              "      <td>2</td>\n",
              "      <td>0</td>\n",
              "    </tr>\n",
              "    <tr>\n",
              "      <th>149</th>\n",
              "      <td>8.490509</td>\n",
              "      <td>-0.914877</td>\n",
              "      <td>2</td>\n",
              "      <td>2</td>\n",
              "      <td>2</td>\n",
              "    </tr>\n",
              "  </tbody>\n",
              "</table>\n",
              "<p>150 rows × 5 columns</p>\n",
              "</div>"
            ],
            "text/plain": [
              "          PC1       PC2  target  pairwise_distances_argmin  kmeans\n",
              "0    5.912204  2.303442       0                          0       1\n",
              "1    5.572076  1.973831       0                          1       1\n",
              "2    5.446485  2.096533       0                          1       1\n",
              "3    5.436019  1.871681       0                          1       1\n",
              "4    5.875066  2.329348       0                          0       1\n",
              "..        ...       ...     ...                        ...     ...\n",
              "145  9.226698 -0.929481       2                          2       0\n",
              "146  8.566555 -1.036575       2                          2       2\n",
              "147  9.026101 -0.883220       2                          2       0\n",
              "148  9.105660 -0.996221       2                          2       0\n",
              "149  8.490509 -0.914877       2                          2       2\n",
              "\n",
              "[150 rows x 5 columns]"
            ]
          },
          "metadata": {
            "tags": []
          },
          "execution_count": 71
        }
      ]
    },
    {
      "cell_type": "code",
      "metadata": {
        "id": "FKOdm2UpCcx8"
      },
      "source": [
        "import sklearn.metrics as sm"
      ],
      "execution_count": 72,
      "outputs": []
    },
    {
      "cell_type": "code",
      "metadata": {
        "colab": {
          "base_uri": "https://localhost:8080/"
        },
        "id": "_bree49zgziS",
        "outputId": "0317bf18-8fca-45dc-c994-5717b44ce838"
      },
      "source": [
        "print('Akurasi KMeans sebesar: ', sm.accuracy_score(principal_svd['kmeans'], principal_svd['target']))\n",
        "print('Akurasi pairwise_distances_argmin sebesar: ', sm.accuracy_score(principal_svd['kmeans'], principal_svd['pairwise_distances_argmin']))\n",
        "\n"
      ],
      "execution_count": 82,
      "outputs": [
        {
          "output_type": "stream",
          "text": [
            "Akurasi KMeans sebesar:  0.09333333333333334\n",
            "Akurasi pairwise_distances_argmin sebesar:  0.5133333333333333\n"
          ],
          "name": "stdout"
        }
      ]
    }
  ]
}